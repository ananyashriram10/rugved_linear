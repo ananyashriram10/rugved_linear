{
  "nbformat": 4,
  "nbformat_minor": 0,
  "metadata": {
    "colab": {
      "provenance": []
    },
    "kernelspec": {
      "name": "python3",
      "display_name": "Python 3"
    },
    "language_info": {
      "name": "python"
    }
  },
  "cells": [
    {
      "cell_type": "code",
      "execution_count": null,
      "metadata": {
        "id": "W6XcP8hemfND"
      },
      "outputs": [],
      "source": [
        "import numpy as np\n",
        "import pandas as pd\n",
        "import matplotlib.pyplot as plt\n",
        "matches=pd.read_csv('/content/drive/MyDrive/RUGVED/matches.csv')\n",
        "\n"
      ]
    },
    {
      "cell_type": "code",
      "source": [
        "matches.head()"
      ],
      "metadata": {
        "colab": {
          "base_uri": "https://localhost:8080/",
          "height": 451
        },
        "id": "bR1w-VuVHpIl",
        "outputId": "32ded9bc-d355-42ce-ca91-812d8ded3098"
      },
      "execution_count": null,
      "outputs": [
        {
          "output_type": "execute_result",
          "data": {
            "text/plain": [
              "   id  season       city        date                        team1  \\\n",
              "0   1    2017  Hyderabad  2017-04-05          Sunrisers Hyderabad   \n",
              "1   2    2017       Pune  2017-04-06               Mumbai Indians   \n",
              "2   3    2017     Rajkot  2017-04-07                Gujarat Lions   \n",
              "3   4    2017     Indore  2017-04-08       Rising Pune Supergiant   \n",
              "4   5    2017  Bangalore  2017-04-08  Royal Challengers Bangalore   \n",
              "\n",
              "                         team2                  toss_winner toss_decision  \\\n",
              "0  Royal Challengers Bangalore  Royal Challengers Bangalore         field   \n",
              "1       Rising Pune Supergiant       Rising Pune Supergiant         field   \n",
              "2        Kolkata Knight Riders        Kolkata Knight Riders         field   \n",
              "3              Kings XI Punjab              Kings XI Punjab         field   \n",
              "4             Delhi Daredevils  Royal Challengers Bangalore           bat   \n",
              "\n",
              "   result  dl_applied                       winner  win_by_runs  \\\n",
              "0  normal           0          Sunrisers Hyderabad           35   \n",
              "1  normal           0       Rising Pune Supergiant            0   \n",
              "2  normal           0        Kolkata Knight Riders            0   \n",
              "3  normal           0              Kings XI Punjab            0   \n",
              "4  normal           0  Royal Challengers Bangalore           15   \n",
              "\n",
              "   win_by_wickets player_of_match                                      venue  \\\n",
              "0               0    Yuvraj Singh  Rajiv Gandhi International Stadium, Uppal   \n",
              "1               7       SPD Smith    Maharashtra Cricket Association Stadium   \n",
              "2              10         CA Lynn     Saurashtra Cricket Association Stadium   \n",
              "3               6      GJ Maxwell                     Holkar Cricket Stadium   \n",
              "4               0       KM Jadhav                      M Chinnaswamy Stadium   \n",
              "\n",
              "          umpire1        umpire2 umpire3  \n",
              "0     AY Dandekar       NJ Llong     NaN  \n",
              "1  A Nand Kishore         S Ravi     NaN  \n",
              "2     Nitin Menon      CK Nandan     NaN  \n",
              "3    AK Chaudhary  C Shamshuddin     NaN  \n",
              "4             NaN            NaN     NaN  "
            ],
            "text/html": [
              "\n",
              "  <div id=\"df-769de4e1-225b-47ed-bff1-c3c6761e06d6\" class=\"colab-df-container\">\n",
              "    <div>\n",
              "<style scoped>\n",
              "    .dataframe tbody tr th:only-of-type {\n",
              "        vertical-align: middle;\n",
              "    }\n",
              "\n",
              "    .dataframe tbody tr th {\n",
              "        vertical-align: top;\n",
              "    }\n",
              "\n",
              "    .dataframe thead th {\n",
              "        text-align: right;\n",
              "    }\n",
              "</style>\n",
              "<table border=\"1\" class=\"dataframe\">\n",
              "  <thead>\n",
              "    <tr style=\"text-align: right;\">\n",
              "      <th></th>\n",
              "      <th>id</th>\n",
              "      <th>season</th>\n",
              "      <th>city</th>\n",
              "      <th>date</th>\n",
              "      <th>team1</th>\n",
              "      <th>team2</th>\n",
              "      <th>toss_winner</th>\n",
              "      <th>toss_decision</th>\n",
              "      <th>result</th>\n",
              "      <th>dl_applied</th>\n",
              "      <th>winner</th>\n",
              "      <th>win_by_runs</th>\n",
              "      <th>win_by_wickets</th>\n",
              "      <th>player_of_match</th>\n",
              "      <th>venue</th>\n",
              "      <th>umpire1</th>\n",
              "      <th>umpire2</th>\n",
              "      <th>umpire3</th>\n",
              "    </tr>\n",
              "  </thead>\n",
              "  <tbody>\n",
              "    <tr>\n",
              "      <th>0</th>\n",
              "      <td>1</td>\n",
              "      <td>2017</td>\n",
              "      <td>Hyderabad</td>\n",
              "      <td>2017-04-05</td>\n",
              "      <td>Sunrisers Hyderabad</td>\n",
              "      <td>Royal Challengers Bangalore</td>\n",
              "      <td>Royal Challengers Bangalore</td>\n",
              "      <td>field</td>\n",
              "      <td>normal</td>\n",
              "      <td>0</td>\n",
              "      <td>Sunrisers Hyderabad</td>\n",
              "      <td>35</td>\n",
              "      <td>0</td>\n",
              "      <td>Yuvraj Singh</td>\n",
              "      <td>Rajiv Gandhi International Stadium, Uppal</td>\n",
              "      <td>AY Dandekar</td>\n",
              "      <td>NJ Llong</td>\n",
              "      <td>NaN</td>\n",
              "    </tr>\n",
              "    <tr>\n",
              "      <th>1</th>\n",
              "      <td>2</td>\n",
              "      <td>2017</td>\n",
              "      <td>Pune</td>\n",
              "      <td>2017-04-06</td>\n",
              "      <td>Mumbai Indians</td>\n",
              "      <td>Rising Pune Supergiant</td>\n",
              "      <td>Rising Pune Supergiant</td>\n",
              "      <td>field</td>\n",
              "      <td>normal</td>\n",
              "      <td>0</td>\n",
              "      <td>Rising Pune Supergiant</td>\n",
              "      <td>0</td>\n",
              "      <td>7</td>\n",
              "      <td>SPD Smith</td>\n",
              "      <td>Maharashtra Cricket Association Stadium</td>\n",
              "      <td>A Nand Kishore</td>\n",
              "      <td>S Ravi</td>\n",
              "      <td>NaN</td>\n",
              "    </tr>\n",
              "    <tr>\n",
              "      <th>2</th>\n",
              "      <td>3</td>\n",
              "      <td>2017</td>\n",
              "      <td>Rajkot</td>\n",
              "      <td>2017-04-07</td>\n",
              "      <td>Gujarat Lions</td>\n",
              "      <td>Kolkata Knight Riders</td>\n",
              "      <td>Kolkata Knight Riders</td>\n",
              "      <td>field</td>\n",
              "      <td>normal</td>\n",
              "      <td>0</td>\n",
              "      <td>Kolkata Knight Riders</td>\n",
              "      <td>0</td>\n",
              "      <td>10</td>\n",
              "      <td>CA Lynn</td>\n",
              "      <td>Saurashtra Cricket Association Stadium</td>\n",
              "      <td>Nitin Menon</td>\n",
              "      <td>CK Nandan</td>\n",
              "      <td>NaN</td>\n",
              "    </tr>\n",
              "    <tr>\n",
              "      <th>3</th>\n",
              "      <td>4</td>\n",
              "      <td>2017</td>\n",
              "      <td>Indore</td>\n",
              "      <td>2017-04-08</td>\n",
              "      <td>Rising Pune Supergiant</td>\n",
              "      <td>Kings XI Punjab</td>\n",
              "      <td>Kings XI Punjab</td>\n",
              "      <td>field</td>\n",
              "      <td>normal</td>\n",
              "      <td>0</td>\n",
              "      <td>Kings XI Punjab</td>\n",
              "      <td>0</td>\n",
              "      <td>6</td>\n",
              "      <td>GJ Maxwell</td>\n",
              "      <td>Holkar Cricket Stadium</td>\n",
              "      <td>AK Chaudhary</td>\n",
              "      <td>C Shamshuddin</td>\n",
              "      <td>NaN</td>\n",
              "    </tr>\n",
              "    <tr>\n",
              "      <th>4</th>\n",
              "      <td>5</td>\n",
              "      <td>2017</td>\n",
              "      <td>Bangalore</td>\n",
              "      <td>2017-04-08</td>\n",
              "      <td>Royal Challengers Bangalore</td>\n",
              "      <td>Delhi Daredevils</td>\n",
              "      <td>Royal Challengers Bangalore</td>\n",
              "      <td>bat</td>\n",
              "      <td>normal</td>\n",
              "      <td>0</td>\n",
              "      <td>Royal Challengers Bangalore</td>\n",
              "      <td>15</td>\n",
              "      <td>0</td>\n",
              "      <td>KM Jadhav</td>\n",
              "      <td>M Chinnaswamy Stadium</td>\n",
              "      <td>NaN</td>\n",
              "      <td>NaN</td>\n",
              "      <td>NaN</td>\n",
              "    </tr>\n",
              "  </tbody>\n",
              "</table>\n",
              "</div>\n",
              "    <div class=\"colab-df-buttons\">\n",
              "\n",
              "  <div class=\"colab-df-container\">\n",
              "    <button class=\"colab-df-convert\" onclick=\"convertToInteractive('df-769de4e1-225b-47ed-bff1-c3c6761e06d6')\"\n",
              "            title=\"Convert this dataframe to an interactive table.\"\n",
              "            style=\"display:none;\">\n",
              "\n",
              "  <svg xmlns=\"http://www.w3.org/2000/svg\" height=\"24px\" viewBox=\"0 -960 960 960\">\n",
              "    <path d=\"M120-120v-720h720v720H120Zm60-500h600v-160H180v160Zm220 220h160v-160H400v160Zm0 220h160v-160H400v160ZM180-400h160v-160H180v160Zm440 0h160v-160H620v160ZM180-180h160v-160H180v160Zm440 0h160v-160H620v160Z\"/>\n",
              "  </svg>\n",
              "    </button>\n",
              "\n",
              "  <style>\n",
              "    .colab-df-container {\n",
              "      display:flex;\n",
              "      gap: 12px;\n",
              "    }\n",
              "\n",
              "    .colab-df-convert {\n",
              "      background-color: #E8F0FE;\n",
              "      border: none;\n",
              "      border-radius: 50%;\n",
              "      cursor: pointer;\n",
              "      display: none;\n",
              "      fill: #1967D2;\n",
              "      height: 32px;\n",
              "      padding: 0 0 0 0;\n",
              "      width: 32px;\n",
              "    }\n",
              "\n",
              "    .colab-df-convert:hover {\n",
              "      background-color: #E2EBFA;\n",
              "      box-shadow: 0px 1px 2px rgba(60, 64, 67, 0.3), 0px 1px 3px 1px rgba(60, 64, 67, 0.15);\n",
              "      fill: #174EA6;\n",
              "    }\n",
              "\n",
              "    .colab-df-buttons div {\n",
              "      margin-bottom: 4px;\n",
              "    }\n",
              "\n",
              "    [theme=dark] .colab-df-convert {\n",
              "      background-color: #3B4455;\n",
              "      fill: #D2E3FC;\n",
              "    }\n",
              "\n",
              "    [theme=dark] .colab-df-convert:hover {\n",
              "      background-color: #434B5C;\n",
              "      box-shadow: 0px 1px 3px 1px rgba(0, 0, 0, 0.15);\n",
              "      filter: drop-shadow(0px 1px 2px rgba(0, 0, 0, 0.3));\n",
              "      fill: #FFFFFF;\n",
              "    }\n",
              "  </style>\n",
              "\n",
              "    <script>\n",
              "      const buttonEl =\n",
              "        document.querySelector('#df-769de4e1-225b-47ed-bff1-c3c6761e06d6 button.colab-df-convert');\n",
              "      buttonEl.style.display =\n",
              "        google.colab.kernel.accessAllowed ? 'block' : 'none';\n",
              "\n",
              "      async function convertToInteractive(key) {\n",
              "        const element = document.querySelector('#df-769de4e1-225b-47ed-bff1-c3c6761e06d6');\n",
              "        const dataTable =\n",
              "          await google.colab.kernel.invokeFunction('convertToInteractive',\n",
              "                                                    [key], {});\n",
              "        if (!dataTable) return;\n",
              "\n",
              "        const docLinkHtml = 'Like what you see? Visit the ' +\n",
              "          '<a target=\"_blank\" href=https://colab.research.google.com/notebooks/data_table.ipynb>data table notebook</a>'\n",
              "          + ' to learn more about interactive tables.';\n",
              "        element.innerHTML = '';\n",
              "        dataTable['output_type'] = 'display_data';\n",
              "        await google.colab.output.renderOutput(dataTable, element);\n",
              "        const docLink = document.createElement('div');\n",
              "        docLink.innerHTML = docLinkHtml;\n",
              "        element.appendChild(docLink);\n",
              "      }\n",
              "    </script>\n",
              "  </div>\n",
              "\n",
              "\n",
              "<div id=\"df-2aaf0a66-ffc4-4953-a083-789e128aa4c3\">\n",
              "  <button class=\"colab-df-quickchart\" onclick=\"quickchart('df-2aaf0a66-ffc4-4953-a083-789e128aa4c3')\"\n",
              "            title=\"Suggest charts\"\n",
              "            style=\"display:none;\">\n",
              "\n",
              "<svg xmlns=\"http://www.w3.org/2000/svg\" height=\"24px\"viewBox=\"0 0 24 24\"\n",
              "     width=\"24px\">\n",
              "    <g>\n",
              "        <path d=\"M19 3H5c-1.1 0-2 .9-2 2v14c0 1.1.9 2 2 2h14c1.1 0 2-.9 2-2V5c0-1.1-.9-2-2-2zM9 17H7v-7h2v7zm4 0h-2V7h2v10zm4 0h-2v-4h2v4z\"/>\n",
              "    </g>\n",
              "</svg>\n",
              "  </button>\n",
              "\n",
              "<style>\n",
              "  .colab-df-quickchart {\n",
              "      --bg-color: #E8F0FE;\n",
              "      --fill-color: #1967D2;\n",
              "      --hover-bg-color: #E2EBFA;\n",
              "      --hover-fill-color: #174EA6;\n",
              "      --disabled-fill-color: #AAA;\n",
              "      --disabled-bg-color: #DDD;\n",
              "  }\n",
              "\n",
              "  [theme=dark] .colab-df-quickchart {\n",
              "      --bg-color: #3B4455;\n",
              "      --fill-color: #D2E3FC;\n",
              "      --hover-bg-color: #434B5C;\n",
              "      --hover-fill-color: #FFFFFF;\n",
              "      --disabled-bg-color: #3B4455;\n",
              "      --disabled-fill-color: #666;\n",
              "  }\n",
              "\n",
              "  .colab-df-quickchart {\n",
              "    background-color: var(--bg-color);\n",
              "    border: none;\n",
              "    border-radius: 50%;\n",
              "    cursor: pointer;\n",
              "    display: none;\n",
              "    fill: var(--fill-color);\n",
              "    height: 32px;\n",
              "    padding: 0;\n",
              "    width: 32px;\n",
              "  }\n",
              "\n",
              "  .colab-df-quickchart:hover {\n",
              "    background-color: var(--hover-bg-color);\n",
              "    box-shadow: 0 1px 2px rgba(60, 64, 67, 0.3), 0 1px 3px 1px rgba(60, 64, 67, 0.15);\n",
              "    fill: var(--button-hover-fill-color);\n",
              "  }\n",
              "\n",
              "  .colab-df-quickchart-complete:disabled,\n",
              "  .colab-df-quickchart-complete:disabled:hover {\n",
              "    background-color: var(--disabled-bg-color);\n",
              "    fill: var(--disabled-fill-color);\n",
              "    box-shadow: none;\n",
              "  }\n",
              "\n",
              "  .colab-df-spinner {\n",
              "    border: 2px solid var(--fill-color);\n",
              "    border-color: transparent;\n",
              "    border-bottom-color: var(--fill-color);\n",
              "    animation:\n",
              "      spin 1s steps(1) infinite;\n",
              "  }\n",
              "\n",
              "  @keyframes spin {\n",
              "    0% {\n",
              "      border-color: transparent;\n",
              "      border-bottom-color: var(--fill-color);\n",
              "      border-left-color: var(--fill-color);\n",
              "    }\n",
              "    20% {\n",
              "      border-color: transparent;\n",
              "      border-left-color: var(--fill-color);\n",
              "      border-top-color: var(--fill-color);\n",
              "    }\n",
              "    30% {\n",
              "      border-color: transparent;\n",
              "      border-left-color: var(--fill-color);\n",
              "      border-top-color: var(--fill-color);\n",
              "      border-right-color: var(--fill-color);\n",
              "    }\n",
              "    40% {\n",
              "      border-color: transparent;\n",
              "      border-right-color: var(--fill-color);\n",
              "      border-top-color: var(--fill-color);\n",
              "    }\n",
              "    60% {\n",
              "      border-color: transparent;\n",
              "      border-right-color: var(--fill-color);\n",
              "    }\n",
              "    80% {\n",
              "      border-color: transparent;\n",
              "      border-right-color: var(--fill-color);\n",
              "      border-bottom-color: var(--fill-color);\n",
              "    }\n",
              "    90% {\n",
              "      border-color: transparent;\n",
              "      border-bottom-color: var(--fill-color);\n",
              "    }\n",
              "  }\n",
              "</style>\n",
              "\n",
              "  <script>\n",
              "    async function quickchart(key) {\n",
              "      const quickchartButtonEl =\n",
              "        document.querySelector('#' + key + ' button');\n",
              "      quickchartButtonEl.disabled = true;  // To prevent multiple clicks.\n",
              "      quickchartButtonEl.classList.add('colab-df-spinner');\n",
              "      try {\n",
              "        const charts = await google.colab.kernel.invokeFunction(\n",
              "            'suggestCharts', [key], {});\n",
              "      } catch (error) {\n",
              "        console.error('Error during call to suggestCharts:', error);\n",
              "      }\n",
              "      quickchartButtonEl.classList.remove('colab-df-spinner');\n",
              "      quickchartButtonEl.classList.add('colab-df-quickchart-complete');\n",
              "    }\n",
              "    (() => {\n",
              "      let quickchartButtonEl =\n",
              "        document.querySelector('#df-2aaf0a66-ffc4-4953-a083-789e128aa4c3 button');\n",
              "      quickchartButtonEl.style.display =\n",
              "        google.colab.kernel.accessAllowed ? 'block' : 'none';\n",
              "    })();\n",
              "  </script>\n",
              "</div>\n",
              "\n",
              "    </div>\n",
              "  </div>\n"
            ],
            "application/vnd.google.colaboratory.intrinsic+json": {
              "type": "dataframe",
              "variable_name": "matches",
              "summary": "{\n  \"name\": \"matches\",\n  \"rows\": 756,\n  \"fields\": [\n    {\n      \"column\": \"id\",\n      \"properties\": {\n        \"dtype\": \"number\",\n        \"std\": 3464,\n        \"min\": 1,\n        \"max\": 11415,\n        \"num_unique_values\": 756,\n        \"samples\": [\n          409,\n          98,\n          425\n        ],\n        \"semantic_type\": \"\",\n        \"description\": \"\"\n      }\n    },\n    {\n      \"column\": \"season\",\n      \"properties\": {\n        \"dtype\": \"number\",\n        \"std\": 3,\n        \"min\": 2008,\n        \"max\": 2019,\n        \"num_unique_values\": 12,\n        \"samples\": [\n          2018,\n          2016,\n          2017\n        ],\n        \"semantic_type\": \"\",\n        \"description\": \"\"\n      }\n    },\n    {\n      \"column\": \"city\",\n      \"properties\": {\n        \"dtype\": \"category\",\n        \"num_unique_values\": 32,\n        \"samples\": [\n          \"Sharjah\",\n          \"Centurion\",\n          \"Kochi\"\n        ],\n        \"semantic_type\": \"\",\n        \"description\": \"\"\n      }\n    },\n    {\n      \"column\": \"date\",\n      \"properties\": {\n        \"dtype\": \"string\",\n        \"num_unique_values\": 546,\n        \"samples\": [\n          \"2013-05-26\",\n          \"2008-05-20\",\n          \"2015-04-10\"\n        ],\n        \"semantic_type\": \"\",\n        \"description\": \"\"\n      }\n    },\n    {\n      \"column\": \"team1\",\n      \"properties\": {\n        \"dtype\": \"category\",\n        \"num_unique_values\": 15,\n        \"samples\": [\n          \"Rajasthan Royals\",\n          \"Kochi Tuskers Kerala\",\n          \"Sunrisers Hyderabad\"\n        ],\n        \"semantic_type\": \"\",\n        \"description\": \"\"\n      }\n    },\n    {\n      \"column\": \"team2\",\n      \"properties\": {\n        \"dtype\": \"category\",\n        \"num_unique_values\": 15,\n        \"samples\": [\n          \"Chennai Super Kings\",\n          \"Pune Warriors\",\n          \"Royal Challengers Bangalore\"\n        ],\n        \"semantic_type\": \"\",\n        \"description\": \"\"\n      }\n    },\n    {\n      \"column\": \"toss_winner\",\n      \"properties\": {\n        \"dtype\": \"category\",\n        \"num_unique_values\": 15,\n        \"samples\": [\n          \"Rajasthan Royals\",\n          \"Kochi Tuskers Kerala\",\n          \"Royal Challengers Bangalore\"\n        ],\n        \"semantic_type\": \"\",\n        \"description\": \"\"\n      }\n    },\n    {\n      \"column\": \"toss_decision\",\n      \"properties\": {\n        \"dtype\": \"category\",\n        \"num_unique_values\": 2,\n        \"samples\": [\n          \"bat\",\n          \"field\"\n        ],\n        \"semantic_type\": \"\",\n        \"description\": \"\"\n      }\n    },\n    {\n      \"column\": \"result\",\n      \"properties\": {\n        \"dtype\": \"category\",\n        \"num_unique_values\": 3,\n        \"samples\": [\n          \"normal\",\n          \"tie\"\n        ],\n        \"semantic_type\": \"\",\n        \"description\": \"\"\n      }\n    },\n    {\n      \"column\": \"dl_applied\",\n      \"properties\": {\n        \"dtype\": \"number\",\n        \"std\": 0,\n        \"min\": 0,\n        \"max\": 1,\n        \"num_unique_values\": 2,\n        \"samples\": [\n          1,\n          0\n        ],\n        \"semantic_type\": \"\",\n        \"description\": \"\"\n      }\n    },\n    {\n      \"column\": \"winner\",\n      \"properties\": {\n        \"dtype\": \"category\",\n        \"num_unique_values\": 15,\n        \"samples\": [\n          \"Rajasthan Royals\",\n          \"Pune Warriors\"\n        ],\n        \"semantic_type\": \"\",\n        \"description\": \"\"\n      }\n    },\n    {\n      \"column\": \"win_by_runs\",\n      \"properties\": {\n        \"dtype\": \"number\",\n        \"std\": 23,\n        \"min\": 0,\n        \"max\": 146,\n        \"num_unique_values\": 89,\n        \"samples\": [\n          53,\n          40\n        ],\n        \"semantic_type\": \"\",\n        \"description\": \"\"\n      }\n    },\n    {\n      \"column\": \"win_by_wickets\",\n      \"properties\": {\n        \"dtype\": \"number\",\n        \"std\": 3,\n        \"min\": 0,\n        \"max\": 10,\n        \"num_unique_values\": 11,\n        \"samples\": [\n          4,\n          0\n        ],\n        \"semantic_type\": \"\",\n        \"description\": \"\"\n      }\n    },\n    {\n      \"column\": \"player_of_match\",\n      \"properties\": {\n        \"dtype\": \"category\",\n        \"num_unique_values\": 226,\n        \"samples\": [\n          \"JJ Bumrah\",\n          \"MA Agarwal\"\n        ],\n        \"semantic_type\": \"\",\n        \"description\": \"\"\n      }\n    },\n    {\n      \"column\": \"venue\",\n      \"properties\": {\n        \"dtype\": \"category\",\n        \"num_unique_values\": 41,\n        \"samples\": [\n          \"Barabati Stadium\",\n          \"Dr DY Patil Sports Academy\"\n        ],\n        \"semantic_type\": \"\",\n        \"description\": \"\"\n      }\n    },\n    {\n      \"column\": \"umpire1\",\n      \"properties\": {\n        \"dtype\": \"category\",\n        \"num_unique_values\": 61,\n        \"samples\": [\n          \"AY Dandekar\",\n          \"KN Ananthapadmanabhan\"\n        ],\n        \"semantic_type\": \"\",\n        \"description\": \"\"\n      }\n    },\n    {\n      \"column\": \"umpire2\",\n      \"properties\": {\n        \"dtype\": \"category\",\n        \"num_unique_values\": 65,\n        \"samples\": [\n          \"O Nandan\",\n          \"Nanda Kishore\"\n        ],\n        \"semantic_type\": \"\",\n        \"description\": \"\"\n      }\n    },\n    {\n      \"column\": \"umpire3\",\n      \"properties\": {\n        \"dtype\": \"category\",\n        \"num_unique_values\": 25,\n        \"samples\": [\n          \"Chris Gaffaney\",\n          \"Marais Erasmus\"\n        ],\n        \"semantic_type\": \"\",\n        \"description\": \"\"\n      }\n    }\n  ]\n}"
            }
          },
          "metadata": {},
          "execution_count": 58
        }
      ]
    },
    {
      "cell_type": "code",
      "source": [
        "matches.size"
      ],
      "metadata": {
        "colab": {
          "base_uri": "https://localhost:8080/"
        },
        "id": "JegyLFe0HpL9",
        "outputId": "a393a863-4529-4fb2-ee72-362e48eecc53"
      },
      "execution_count": null,
      "outputs": [
        {
          "output_type": "execute_result",
          "data": {
            "text/plain": [
              "13608"
            ]
          },
          "metadata": {},
          "execution_count": 59
        }
      ]
    },
    {
      "cell_type": "code",
      "source": [
        "matches.info()"
      ],
      "metadata": {
        "colab": {
          "base_uri": "https://localhost:8080/"
        },
        "id": "VXnjA_-eHvgB",
        "outputId": "dbcd719a-6d51-4808-faa9-0634624ac6f5"
      },
      "execution_count": null,
      "outputs": [
        {
          "output_type": "stream",
          "name": "stdout",
          "text": [
            "<class 'pandas.core.frame.DataFrame'>\n",
            "RangeIndex: 756 entries, 0 to 755\n",
            "Data columns (total 18 columns):\n",
            " #   Column           Non-Null Count  Dtype \n",
            "---  ------           --------------  ----- \n",
            " 0   id               756 non-null    int64 \n",
            " 1   season           756 non-null    int64 \n",
            " 2   city             749 non-null    object\n",
            " 3   date             756 non-null    object\n",
            " 4   team1            756 non-null    object\n",
            " 5   team2            756 non-null    object\n",
            " 6   toss_winner      756 non-null    object\n",
            " 7   toss_decision    756 non-null    object\n",
            " 8   result           756 non-null    object\n",
            " 9   dl_applied       756 non-null    int64 \n",
            " 10  winner           752 non-null    object\n",
            " 11  win_by_runs      756 non-null    int64 \n",
            " 12  win_by_wickets   756 non-null    int64 \n",
            " 13  player_of_match  752 non-null    object\n",
            " 14  venue            756 non-null    object\n",
            " 15  umpire1          754 non-null    object\n",
            " 16  umpire2          754 non-null    object\n",
            " 17  umpire3          119 non-null    object\n",
            "dtypes: int64(5), object(13)\n",
            "memory usage: 106.4+ KB\n"
          ]
        }
      ]
    },
    {
      "cell_type": "code",
      "source": [
        "matches.describe()"
      ],
      "metadata": {
        "colab": {
          "base_uri": "https://localhost:8080/",
          "height": 300
        },
        "id": "KNlyCcJCH0Kw",
        "outputId": "7d2f3a5d-a4ad-4b75-bfbb-75f51c5023df"
      },
      "execution_count": null,
      "outputs": [
        {
          "output_type": "execute_result",
          "data": {
            "text/plain": [
              "                 id       season  dl_applied  win_by_runs  win_by_wickets\n",
              "count    756.000000   756.000000  756.000000   756.000000      756.000000\n",
              "mean    1792.178571  2013.444444    0.025132    13.283069        3.350529\n",
              "std     3464.478148     3.366895    0.156630    23.471144        3.387963\n",
              "min        1.000000  2008.000000    0.000000     0.000000        0.000000\n",
              "25%      189.750000  2011.000000    0.000000     0.000000        0.000000\n",
              "50%      378.500000  2013.000000    0.000000     0.000000        4.000000\n",
              "75%      567.250000  2016.000000    0.000000    19.000000        6.000000\n",
              "max    11415.000000  2019.000000    1.000000   146.000000       10.000000"
            ],
            "text/html": [
              "\n",
              "  <div id=\"df-861816aa-3d1d-4119-af6b-8886a6bcbd3f\" class=\"colab-df-container\">\n",
              "    <div>\n",
              "<style scoped>\n",
              "    .dataframe tbody tr th:only-of-type {\n",
              "        vertical-align: middle;\n",
              "    }\n",
              "\n",
              "    .dataframe tbody tr th {\n",
              "        vertical-align: top;\n",
              "    }\n",
              "\n",
              "    .dataframe thead th {\n",
              "        text-align: right;\n",
              "    }\n",
              "</style>\n",
              "<table border=\"1\" class=\"dataframe\">\n",
              "  <thead>\n",
              "    <tr style=\"text-align: right;\">\n",
              "      <th></th>\n",
              "      <th>id</th>\n",
              "      <th>season</th>\n",
              "      <th>dl_applied</th>\n",
              "      <th>win_by_runs</th>\n",
              "      <th>win_by_wickets</th>\n",
              "    </tr>\n",
              "  </thead>\n",
              "  <tbody>\n",
              "    <tr>\n",
              "      <th>count</th>\n",
              "      <td>756.000000</td>\n",
              "      <td>756.000000</td>\n",
              "      <td>756.000000</td>\n",
              "      <td>756.000000</td>\n",
              "      <td>756.000000</td>\n",
              "    </tr>\n",
              "    <tr>\n",
              "      <th>mean</th>\n",
              "      <td>1792.178571</td>\n",
              "      <td>2013.444444</td>\n",
              "      <td>0.025132</td>\n",
              "      <td>13.283069</td>\n",
              "      <td>3.350529</td>\n",
              "    </tr>\n",
              "    <tr>\n",
              "      <th>std</th>\n",
              "      <td>3464.478148</td>\n",
              "      <td>3.366895</td>\n",
              "      <td>0.156630</td>\n",
              "      <td>23.471144</td>\n",
              "      <td>3.387963</td>\n",
              "    </tr>\n",
              "    <tr>\n",
              "      <th>min</th>\n",
              "      <td>1.000000</td>\n",
              "      <td>2008.000000</td>\n",
              "      <td>0.000000</td>\n",
              "      <td>0.000000</td>\n",
              "      <td>0.000000</td>\n",
              "    </tr>\n",
              "    <tr>\n",
              "      <th>25%</th>\n",
              "      <td>189.750000</td>\n",
              "      <td>2011.000000</td>\n",
              "      <td>0.000000</td>\n",
              "      <td>0.000000</td>\n",
              "      <td>0.000000</td>\n",
              "    </tr>\n",
              "    <tr>\n",
              "      <th>50%</th>\n",
              "      <td>378.500000</td>\n",
              "      <td>2013.000000</td>\n",
              "      <td>0.000000</td>\n",
              "      <td>0.000000</td>\n",
              "      <td>4.000000</td>\n",
              "    </tr>\n",
              "    <tr>\n",
              "      <th>75%</th>\n",
              "      <td>567.250000</td>\n",
              "      <td>2016.000000</td>\n",
              "      <td>0.000000</td>\n",
              "      <td>19.000000</td>\n",
              "      <td>6.000000</td>\n",
              "    </tr>\n",
              "    <tr>\n",
              "      <th>max</th>\n",
              "      <td>11415.000000</td>\n",
              "      <td>2019.000000</td>\n",
              "      <td>1.000000</td>\n",
              "      <td>146.000000</td>\n",
              "      <td>10.000000</td>\n",
              "    </tr>\n",
              "  </tbody>\n",
              "</table>\n",
              "</div>\n",
              "    <div class=\"colab-df-buttons\">\n",
              "\n",
              "  <div class=\"colab-df-container\">\n",
              "    <button class=\"colab-df-convert\" onclick=\"convertToInteractive('df-861816aa-3d1d-4119-af6b-8886a6bcbd3f')\"\n",
              "            title=\"Convert this dataframe to an interactive table.\"\n",
              "            style=\"display:none;\">\n",
              "\n",
              "  <svg xmlns=\"http://www.w3.org/2000/svg\" height=\"24px\" viewBox=\"0 -960 960 960\">\n",
              "    <path d=\"M120-120v-720h720v720H120Zm60-500h600v-160H180v160Zm220 220h160v-160H400v160Zm0 220h160v-160H400v160ZM180-400h160v-160H180v160Zm440 0h160v-160H620v160ZM180-180h160v-160H180v160Zm440 0h160v-160H620v160Z\"/>\n",
              "  </svg>\n",
              "    </button>\n",
              "\n",
              "  <style>\n",
              "    .colab-df-container {\n",
              "      display:flex;\n",
              "      gap: 12px;\n",
              "    }\n",
              "\n",
              "    .colab-df-convert {\n",
              "      background-color: #E8F0FE;\n",
              "      border: none;\n",
              "      border-radius: 50%;\n",
              "      cursor: pointer;\n",
              "      display: none;\n",
              "      fill: #1967D2;\n",
              "      height: 32px;\n",
              "      padding: 0 0 0 0;\n",
              "      width: 32px;\n",
              "    }\n",
              "\n",
              "    .colab-df-convert:hover {\n",
              "      background-color: #E2EBFA;\n",
              "      box-shadow: 0px 1px 2px rgba(60, 64, 67, 0.3), 0px 1px 3px 1px rgba(60, 64, 67, 0.15);\n",
              "      fill: #174EA6;\n",
              "    }\n",
              "\n",
              "    .colab-df-buttons div {\n",
              "      margin-bottom: 4px;\n",
              "    }\n",
              "\n",
              "    [theme=dark] .colab-df-convert {\n",
              "      background-color: #3B4455;\n",
              "      fill: #D2E3FC;\n",
              "    }\n",
              "\n",
              "    [theme=dark] .colab-df-convert:hover {\n",
              "      background-color: #434B5C;\n",
              "      box-shadow: 0px 1px 3px 1px rgba(0, 0, 0, 0.15);\n",
              "      filter: drop-shadow(0px 1px 2px rgba(0, 0, 0, 0.3));\n",
              "      fill: #FFFFFF;\n",
              "    }\n",
              "  </style>\n",
              "\n",
              "    <script>\n",
              "      const buttonEl =\n",
              "        document.querySelector('#df-861816aa-3d1d-4119-af6b-8886a6bcbd3f button.colab-df-convert');\n",
              "      buttonEl.style.display =\n",
              "        google.colab.kernel.accessAllowed ? 'block' : 'none';\n",
              "\n",
              "      async function convertToInteractive(key) {\n",
              "        const element = document.querySelector('#df-861816aa-3d1d-4119-af6b-8886a6bcbd3f');\n",
              "        const dataTable =\n",
              "          await google.colab.kernel.invokeFunction('convertToInteractive',\n",
              "                                                    [key], {});\n",
              "        if (!dataTable) return;\n",
              "\n",
              "        const docLinkHtml = 'Like what you see? Visit the ' +\n",
              "          '<a target=\"_blank\" href=https://colab.research.google.com/notebooks/data_table.ipynb>data table notebook</a>'\n",
              "          + ' to learn more about interactive tables.';\n",
              "        element.innerHTML = '';\n",
              "        dataTable['output_type'] = 'display_data';\n",
              "        await google.colab.output.renderOutput(dataTable, element);\n",
              "        const docLink = document.createElement('div');\n",
              "        docLink.innerHTML = docLinkHtml;\n",
              "        element.appendChild(docLink);\n",
              "      }\n",
              "    </script>\n",
              "  </div>\n",
              "\n",
              "\n",
              "<div id=\"df-a2dda45f-9ee1-4bcf-9f66-c0703277099d\">\n",
              "  <button class=\"colab-df-quickchart\" onclick=\"quickchart('df-a2dda45f-9ee1-4bcf-9f66-c0703277099d')\"\n",
              "            title=\"Suggest charts\"\n",
              "            style=\"display:none;\">\n",
              "\n",
              "<svg xmlns=\"http://www.w3.org/2000/svg\" height=\"24px\"viewBox=\"0 0 24 24\"\n",
              "     width=\"24px\">\n",
              "    <g>\n",
              "        <path d=\"M19 3H5c-1.1 0-2 .9-2 2v14c0 1.1.9 2 2 2h14c1.1 0 2-.9 2-2V5c0-1.1-.9-2-2-2zM9 17H7v-7h2v7zm4 0h-2V7h2v10zm4 0h-2v-4h2v4z\"/>\n",
              "    </g>\n",
              "</svg>\n",
              "  </button>\n",
              "\n",
              "<style>\n",
              "  .colab-df-quickchart {\n",
              "      --bg-color: #E8F0FE;\n",
              "      --fill-color: #1967D2;\n",
              "      --hover-bg-color: #E2EBFA;\n",
              "      --hover-fill-color: #174EA6;\n",
              "      --disabled-fill-color: #AAA;\n",
              "      --disabled-bg-color: #DDD;\n",
              "  }\n",
              "\n",
              "  [theme=dark] .colab-df-quickchart {\n",
              "      --bg-color: #3B4455;\n",
              "      --fill-color: #D2E3FC;\n",
              "      --hover-bg-color: #434B5C;\n",
              "      --hover-fill-color: #FFFFFF;\n",
              "      --disabled-bg-color: #3B4455;\n",
              "      --disabled-fill-color: #666;\n",
              "  }\n",
              "\n",
              "  .colab-df-quickchart {\n",
              "    background-color: var(--bg-color);\n",
              "    border: none;\n",
              "    border-radius: 50%;\n",
              "    cursor: pointer;\n",
              "    display: none;\n",
              "    fill: var(--fill-color);\n",
              "    height: 32px;\n",
              "    padding: 0;\n",
              "    width: 32px;\n",
              "  }\n",
              "\n",
              "  .colab-df-quickchart:hover {\n",
              "    background-color: var(--hover-bg-color);\n",
              "    box-shadow: 0 1px 2px rgba(60, 64, 67, 0.3), 0 1px 3px 1px rgba(60, 64, 67, 0.15);\n",
              "    fill: var(--button-hover-fill-color);\n",
              "  }\n",
              "\n",
              "  .colab-df-quickchart-complete:disabled,\n",
              "  .colab-df-quickchart-complete:disabled:hover {\n",
              "    background-color: var(--disabled-bg-color);\n",
              "    fill: var(--disabled-fill-color);\n",
              "    box-shadow: none;\n",
              "  }\n",
              "\n",
              "  .colab-df-spinner {\n",
              "    border: 2px solid var(--fill-color);\n",
              "    border-color: transparent;\n",
              "    border-bottom-color: var(--fill-color);\n",
              "    animation:\n",
              "      spin 1s steps(1) infinite;\n",
              "  }\n",
              "\n",
              "  @keyframes spin {\n",
              "    0% {\n",
              "      border-color: transparent;\n",
              "      border-bottom-color: var(--fill-color);\n",
              "      border-left-color: var(--fill-color);\n",
              "    }\n",
              "    20% {\n",
              "      border-color: transparent;\n",
              "      border-left-color: var(--fill-color);\n",
              "      border-top-color: var(--fill-color);\n",
              "    }\n",
              "    30% {\n",
              "      border-color: transparent;\n",
              "      border-left-color: var(--fill-color);\n",
              "      border-top-color: var(--fill-color);\n",
              "      border-right-color: var(--fill-color);\n",
              "    }\n",
              "    40% {\n",
              "      border-color: transparent;\n",
              "      border-right-color: var(--fill-color);\n",
              "      border-top-color: var(--fill-color);\n",
              "    }\n",
              "    60% {\n",
              "      border-color: transparent;\n",
              "      border-right-color: var(--fill-color);\n",
              "    }\n",
              "    80% {\n",
              "      border-color: transparent;\n",
              "      border-right-color: var(--fill-color);\n",
              "      border-bottom-color: var(--fill-color);\n",
              "    }\n",
              "    90% {\n",
              "      border-color: transparent;\n",
              "      border-bottom-color: var(--fill-color);\n",
              "    }\n",
              "  }\n",
              "</style>\n",
              "\n",
              "  <script>\n",
              "    async function quickchart(key) {\n",
              "      const quickchartButtonEl =\n",
              "        document.querySelector('#' + key + ' button');\n",
              "      quickchartButtonEl.disabled = true;  // To prevent multiple clicks.\n",
              "      quickchartButtonEl.classList.add('colab-df-spinner');\n",
              "      try {\n",
              "        const charts = await google.colab.kernel.invokeFunction(\n",
              "            'suggestCharts', [key], {});\n",
              "      } catch (error) {\n",
              "        console.error('Error during call to suggestCharts:', error);\n",
              "      }\n",
              "      quickchartButtonEl.classList.remove('colab-df-spinner');\n",
              "      quickchartButtonEl.classList.add('colab-df-quickchart-complete');\n",
              "    }\n",
              "    (() => {\n",
              "      let quickchartButtonEl =\n",
              "        document.querySelector('#df-a2dda45f-9ee1-4bcf-9f66-c0703277099d button');\n",
              "      quickchartButtonEl.style.display =\n",
              "        google.colab.kernel.accessAllowed ? 'block' : 'none';\n",
              "    })();\n",
              "  </script>\n",
              "</div>\n",
              "\n",
              "    </div>\n",
              "  </div>\n"
            ],
            "application/vnd.google.colaboratory.intrinsic+json": {
              "type": "dataframe",
              "summary": "{\n  \"name\": \"matches\",\n  \"rows\": 8,\n  \"fields\": [\n    {\n      \"column\": \"id\",\n      \"properties\": {\n        \"dtype\": \"number\",\n        \"std\": 3845.420753611518,\n        \"min\": 1.0,\n        \"max\": 11415.0,\n        \"num_unique_values\": 8,\n        \"samples\": [\n          1792.1785714285713,\n          378.5,\n          756.0\n        ],\n        \"semantic_type\": \"\",\n        \"description\": \"\"\n      }\n    },\n    {\n      \"column\": \"season\",\n      \"properties\": {\n        \"dtype\": \"number\",\n        \"std\": 782.5674286411913,\n        \"min\": 3.3668950592431592,\n        \"max\": 2019.0,\n        \"num_unique_values\": 8,\n        \"samples\": [\n          2013.4444444444443,\n          2013.0,\n          756.0\n        ],\n        \"semantic_type\": \"\",\n        \"description\": \"\"\n      }\n    },\n    {\n      \"column\": \"dl_applied\",\n      \"properties\": {\n        \"dtype\": \"number\",\n        \"std\": 267.2268959519977,\n        \"min\": 0.0,\n        \"max\": 756.0,\n        \"num_unique_values\": 5,\n        \"samples\": [\n          0.02513227513227513,\n          1.0,\n          0.15663044104801593\n        ],\n        \"semantic_type\": \"\",\n        \"description\": \"\"\n      }\n    },\n    {\n      \"column\": \"win_by_runs\",\n      \"properties\": {\n        \"dtype\": \"number\",\n        \"std\": 261.6646416981693,\n        \"min\": 0.0,\n        \"max\": 756.0,\n        \"num_unique_values\": 6,\n        \"samples\": [\n          756.0,\n          13.283068783068783,\n          146.0\n        ],\n        \"semantic_type\": \"\",\n        \"description\": \"\"\n      }\n    },\n    {\n      \"column\": \"win_by_wickets\",\n      \"properties\": {\n        \"dtype\": \"number\",\n        \"std\": 265.95535635631853,\n        \"min\": 0.0,\n        \"max\": 756.0,\n        \"num_unique_values\": 7,\n        \"samples\": [\n          756.0,\n          3.3505291005291005,\n          6.0\n        ],\n        \"semantic_type\": \"\",\n        \"description\": \"\"\n      }\n    }\n  ]\n}"
            }
          },
          "metadata": {},
          "execution_count": 61
        }
      ]
    },
    {
      "cell_type": "code",
      "source": [
        "import sys\n",
        "import numpy as np"
      ],
      "metadata": {
        "id": "ij29nW4tEe3D"
      },
      "execution_count": null,
      "outputs": []
    },
    {
      "cell_type": "code",
      "source": [
        "a=np.array([1,2,3,4])\n",
        "print(a)"
      ],
      "metadata": {
        "colab": {
          "base_uri": "https://localhost:8080/"
        },
        "id": "BJjcjAh5EtfR",
        "outputId": "d6191cd2-694a-4a7c-d4bc-ed41cd3615a2"
      },
      "execution_count": null,
      "outputs": [
        {
          "output_type": "stream",
          "name": "stdout",
          "text": [
            "[1 2 3 4]\n"
          ]
        }
      ]
    },
    {
      "cell_type": "code",
      "source": [
        "c=np.arange(4)\n",
        "print(c)"
      ],
      "metadata": {
        "colab": {
          "base_uri": "https://localhost:8080/"
        },
        "id": "6XOP8KlIm2wU",
        "outputId": "a177a3ff-da49-44af-9bdf-1c464796416e"
      },
      "execution_count": null,
      "outputs": [
        {
          "output_type": "stream",
          "name": "stdout",
          "text": [
            "[0 1 2 3]\n"
          ]
        }
      ]
    },
    {
      "cell_type": "code",
      "source": [
        "import numpy as np\n",
        "b=np.array([ 0., 0.5 , 1. ,1.5, 2.])\n",
        "b[[0,2,-1]]\n"
      ],
      "metadata": {
        "colab": {
          "base_uri": "https://localhost:8080/"
        },
        "id": "5C-5Wd4DFnfu",
        "outputId": "5c2eb8de-858f-4b3b-9abd-fe25877be2b6"
      },
      "execution_count": null,
      "outputs": [
        {
          "output_type": "execute_result",
          "data": {
            "text/plain": [
              "array([0., 1., 2.])"
            ]
          },
          "metadata": {},
          "execution_count": 5
        }
      ]
    },
    {
      "cell_type": "code",
      "source": [
        "b[[True,False,False,False,True]]\n"
      ],
      "metadata": {
        "colab": {
          "base_uri": "https://localhost:8080/"
        },
        "id": "VoY2TabxjclC",
        "outputId": "9fb4e9e5-66eb-4ddc-85b3-824ee6860e5e"
      },
      "execution_count": null,
      "outputs": [
        {
          "output_type": "execute_result",
          "data": {
            "text/plain": [
              "array([0., 2.])"
            ]
          },
          "metadata": {},
          "execution_count": 8
        }
      ]
    },
    {
      "cell_type": "code",
      "source": [
        "b<2"
      ],
      "metadata": {
        "colab": {
          "base_uri": "https://localhost:8080/"
        },
        "id": "nWMdnrfrjpzI",
        "outputId": "03d0210b-4bdf-4fff-97ec-50ecf63efb0a"
      },
      "execution_count": null,
      "outputs": [
        {
          "output_type": "execute_result",
          "data": {
            "text/plain": [
              "array([ True,  True,  True,  True, False])"
            ]
          },
          "metadata": {},
          "execution_count": 9
        }
      ]
    },
    {
      "cell_type": "code",
      "source": [
        "b[b<2]"
      ],
      "metadata": {
        "colab": {
          "base_uri": "https://localhost:8080/"
        },
        "id": "7Tv4LJn7jjSX",
        "outputId": "95aec914-4f7f-4d4b-8546-41f1720f3ed8"
      },
      "execution_count": null,
      "outputs": [
        {
          "output_type": "execute_result",
          "data": {
            "text/plain": [
              "array([0. , 0.5, 1. , 1.5])"
            ]
          },
          "metadata": {},
          "execution_count": 7
        }
      ]
    },
    {
      "cell_type": "code",
      "source": [
        "b.mean()"
      ],
      "metadata": {
        "colab": {
          "base_uri": "https://localhost:8080/"
        },
        "id": "0dK03F45j1Ia",
        "outputId": "e9d240a2-923f-47b8-8f4f-8bed2d87cc4e"
      },
      "execution_count": null,
      "outputs": [
        {
          "output_type": "execute_result",
          "data": {
            "text/plain": [
              "1.0"
            ]
          },
          "metadata": {},
          "execution_count": 10
        }
      ]
    },
    {
      "cell_type": "code",
      "source": [
        "b[b>b.mean()]"
      ],
      "metadata": {
        "colab": {
          "base_uri": "https://localhost:8080/"
        },
        "id": "ctzSxnBej9ip",
        "outputId": "e9ad5145-1968-4b35-ec92-29068783edd6"
      },
      "execution_count": null,
      "outputs": [
        {
          "output_type": "execute_result",
          "data": {
            "text/plain": [
              "array([1.5, 2. ])"
            ]
          },
          "metadata": {},
          "execution_count": 11
        }
      ]
    },
    {
      "cell_type": "code",
      "source": [
        "b[~(b>b.mean())]"
      ],
      "metadata": {
        "colab": {
          "base_uri": "https://localhost:8080/"
        },
        "id": "N5T9CJeekOlS",
        "outputId": "845aa8ac-a231-4b83-8f1e-f9a76e4d566c"
      },
      "execution_count": null,
      "outputs": [
        {
          "output_type": "execute_result",
          "data": {
            "text/plain": [
              "array([0. , 0.5, 1. ])"
            ]
          },
          "metadata": {},
          "execution_count": 12
        }
      ]
    },
    {
      "cell_type": "code",
      "source": [
        "b[(b>1) | ( b==1)]"
      ],
      "metadata": {
        "colab": {
          "base_uri": "https://localhost:8080/"
        },
        "id": "Dzyfj2JLkXrL",
        "outputId": "a14b15e6-b6e8-496d-ae9b-af717a1a2738"
      },
      "execution_count": null,
      "outputs": [
        {
          "output_type": "execute_result",
          "data": {
            "text/plain": [
              "array([1. , 1.5, 2. ])"
            ]
          },
          "metadata": {},
          "execution_count": 20
        }
      ]
    },
    {
      "cell_type": "code",
      "source": [
        "a=np.arange(1000)\n",
        "%time np.sum(a**2)"
      ],
      "metadata": {
        "colab": {
          "base_uri": "https://localhost:8080/"
        },
        "id": "ny0NkThPnVZ9",
        "outputId": "af999187-1575-46f1-aa1f-7ed3dd79fabe"
      },
      "execution_count": null,
      "outputs": [
        {
          "output_type": "stream",
          "name": "stdout",
          "text": [
            "CPU times: user 108 µs, sys: 0 ns, total: 108 µs\n",
            "Wall time: 113 µs\n"
          ]
        },
        {
          "output_type": "execute_result",
          "data": {
            "text/plain": [
              "332833500"
            ]
          },
          "metadata": {},
          "execution_count": 30
        }
      ]
    },
    {
      "cell_type": "code",
      "source": [
        "l=list(range(1000))\n",
        "%time sum(x**2 for x in l)"
      ],
      "metadata": {
        "colab": {
          "base_uri": "https://localhost:8080/"
        },
        "id": "ljKAtkdjnqRi",
        "outputId": "5655d5a8-8801-4002-d504-ba039c011487"
      },
      "execution_count": null,
      "outputs": [
        {
          "output_type": "stream",
          "name": "stdout",
          "text": [
            "CPU times: user 514 µs, sys: 52 µs, total: 566 µs\n",
            "Wall time: 570 µs\n"
          ]
        },
        {
          "output_type": "execute_result",
          "data": {
            "text/plain": [
              "332833500"
            ]
          },
          "metadata": {},
          "execution_count": 31
        }
      ]
    },
    {
      "cell_type": "code",
      "source": [
        "import pandas as pd\n",
        "marks=pd.Series([25,25,25,27,22,23])\n",
        "marks.name='ananya\\'s marks in mid sem'\n",
        "print(marks)"
      ],
      "metadata": {
        "colab": {
          "base_uri": "https://localhost:8080/"
        },
        "id": "XlkI0GOarorm",
        "outputId": "0b96d708-ce07-43b3-d54f-175fdc1a45b3"
      },
      "execution_count": null,
      "outputs": [
        {
          "output_type": "stream",
          "name": "stdout",
          "text": [
            "0    25\n",
            "1    25\n",
            "2    25\n",
            "3    27\n",
            "4    22\n",
            "5    23\n",
            "Name: ananya's marks in mid sem, dtype: int64\n"
          ]
        }
      ]
    },
    {
      "cell_type": "code",
      "source": [
        "print(marks)"
      ],
      "metadata": {
        "colab": {
          "base_uri": "https://localhost:8080/"
        },
        "id": "E9tn1rhVwdqc",
        "outputId": "b955be34-2ff7-4f12-c1c5-8d8d634dac4a"
      },
      "execution_count": null,
      "outputs": [
        {
          "output_type": "stream",
          "name": "stdout",
          "text": [
            "0    25\n",
            "1    25\n",
            "2    25\n",
            "3    27\n",
            "4    22\n",
            "5    23\n",
            "Name: ananya's marks in mid sem, dtype: int64\n"
          ]
        }
      ]
    },
    {
      "cell_type": "code",
      "source": [
        "marks[0]"
      ],
      "metadata": {
        "colab": {
          "base_uri": "https://localhost:8080/"
        },
        "id": "Mw3rhK6QxE64",
        "outputId": "fd3f86a7-9e0b-4967-85fc-652b3b4b3660"
      },
      "execution_count": null,
      "outputs": [
        {
          "output_type": "execute_result",
          "data": {
            "text/plain": [
              "25"
            ]
          },
          "metadata": {},
          "execution_count": 41
        }
      ]
    },
    {
      "cell_type": "code",
      "source": [
        "marks.index=['math','fee','evs','emsb','pps','chem']\n",
        "print(marks.index)"
      ],
      "metadata": {
        "colab": {
          "base_uri": "https://localhost:8080/"
        },
        "id": "b4mW-YuOyL9m",
        "outputId": "c5fa12e6-9380-4814-e0ec-51d20ba76c92"
      },
      "execution_count": null,
      "outputs": [
        {
          "output_type": "stream",
          "name": "stdout",
          "text": [
            "Index(['math', 'fee', 'evs', 'emsb', 'pps', 'chem'], dtype='object')\n"
          ]
        }
      ]
    },
    {
      "cell_type": "code",
      "source": [
        "#panda series acts as both dict and list , it is ordered like lists and it has key values like dict\n",
        "marks"
      ],
      "metadata": {
        "colab": {
          "base_uri": "https://localhost:8080/",
          "height": 272
        },
        "id": "DoQu1eFLytS1",
        "outputId": "788e7d11-ad4f-47cb-eb28-f7ddf81a4176"
      },
      "execution_count": null,
      "outputs": [
        {
          "output_type": "execute_result",
          "data": {
            "text/plain": [
              "math    25\n",
              "fee     25\n",
              "evs     25\n",
              "emsb    27\n",
              "pps     22\n",
              "chem    23\n",
              "Name: ananya's marks in mid sem, dtype: int64"
            ],
            "text/html": [
              "<div>\n",
              "<style scoped>\n",
              "    .dataframe tbody tr th:only-of-type {\n",
              "        vertical-align: middle;\n",
              "    }\n",
              "\n",
              "    .dataframe tbody tr th {\n",
              "        vertical-align: top;\n",
              "    }\n",
              "\n",
              "    .dataframe thead th {\n",
              "        text-align: right;\n",
              "    }\n",
              "</style>\n",
              "<table border=\"1\" class=\"dataframe\">\n",
              "  <thead>\n",
              "    <tr style=\"text-align: right;\">\n",
              "      <th></th>\n",
              "      <th>ananya's marks in mid sem</th>\n",
              "    </tr>\n",
              "  </thead>\n",
              "  <tbody>\n",
              "    <tr>\n",
              "      <th>math</th>\n",
              "      <td>25</td>\n",
              "    </tr>\n",
              "    <tr>\n",
              "      <th>fee</th>\n",
              "      <td>25</td>\n",
              "    </tr>\n",
              "    <tr>\n",
              "      <th>evs</th>\n",
              "      <td>25</td>\n",
              "    </tr>\n",
              "    <tr>\n",
              "      <th>emsb</th>\n",
              "      <td>27</td>\n",
              "    </tr>\n",
              "    <tr>\n",
              "      <th>pps</th>\n",
              "      <td>22</td>\n",
              "    </tr>\n",
              "    <tr>\n",
              "      <th>chem</th>\n",
              "      <td>23</td>\n",
              "    </tr>\n",
              "  </tbody>\n",
              "</table>\n",
              "</div><br><label><b>dtype:</b> int64</label>"
            ]
          },
          "metadata": {},
          "execution_count": 44
        }
      ]
    },
    {
      "cell_type": "code",
      "source": [
        "pd.Series(marks,index=['math','fee'])"
      ],
      "metadata": {
        "colab": {
          "base_uri": "https://localhost:8080/",
          "height": 147
        },
        "id": "2xsoPKu4zVKX",
        "outputId": "e1db5fd7-ebf1-4482-c556-c1111adfd423"
      },
      "execution_count": null,
      "outputs": [
        {
          "output_type": "execute_result",
          "data": {
            "text/plain": [
              "math    25\n",
              "fee     25\n",
              "Name: ananya's marks in mid sem, dtype: int64"
            ],
            "text/html": [
              "<div>\n",
              "<style scoped>\n",
              "    .dataframe tbody tr th:only-of-type {\n",
              "        vertical-align: middle;\n",
              "    }\n",
              "\n",
              "    .dataframe tbody tr th {\n",
              "        vertical-align: top;\n",
              "    }\n",
              "\n",
              "    .dataframe thead th {\n",
              "        text-align: right;\n",
              "    }\n",
              "</style>\n",
              "<table border=\"1\" class=\"dataframe\">\n",
              "  <thead>\n",
              "    <tr style=\"text-align: right;\">\n",
              "      <th></th>\n",
              "      <th>ananya's marks in mid sem</th>\n",
              "    </tr>\n",
              "  </thead>\n",
              "  <tbody>\n",
              "    <tr>\n",
              "      <th>math</th>\n",
              "      <td>25</td>\n",
              "    </tr>\n",
              "    <tr>\n",
              "      <th>fee</th>\n",
              "      <td>25</td>\n",
              "    </tr>\n",
              "  </tbody>\n",
              "</table>\n",
              "</div><br><label><b>dtype:</b> int64</label>"
            ]
          },
          "metadata": {},
          "execution_count": 45
        }
      ]
    },
    {
      "cell_type": "code",
      "source": [
        "marks['math']"
      ],
      "metadata": {
        "colab": {
          "base_uri": "https://localhost:8080/"
        },
        "id": "FzZZgsGSzl42",
        "outputId": "f493758e-a329-4574-b9fa-c85c7e6a8ec1"
      },
      "execution_count": null,
      "outputs": [
        {
          "output_type": "execute_result",
          "data": {
            "text/plain": [
              "25"
            ]
          },
          "metadata": {},
          "execution_count": 46
        }
      ]
    },
    {
      "cell_type": "code",
      "source": [
        "marks.iloc[[0,2]]"
      ],
      "metadata": {
        "colab": {
          "base_uri": "https://localhost:8080/",
          "height": 147
        },
        "id": "P-pFgePEzpdy",
        "outputId": "88fa2dda-2f1d-4908-8008-07e652d40d37"
      },
      "execution_count": null,
      "outputs": [
        {
          "output_type": "execute_result",
          "data": {
            "text/plain": [
              "math    25\n",
              "evs     25\n",
              "Name: ananya's marks in mid sem, dtype: int64"
            ],
            "text/html": [
              "<div>\n",
              "<style scoped>\n",
              "    .dataframe tbody tr th:only-of-type {\n",
              "        vertical-align: middle;\n",
              "    }\n",
              "\n",
              "    .dataframe tbody tr th {\n",
              "        vertical-align: top;\n",
              "    }\n",
              "\n",
              "    .dataframe thead th {\n",
              "        text-align: right;\n",
              "    }\n",
              "</style>\n",
              "<table border=\"1\" class=\"dataframe\">\n",
              "  <thead>\n",
              "    <tr style=\"text-align: right;\">\n",
              "      <th></th>\n",
              "      <th>ananya's marks in mid sem</th>\n",
              "    </tr>\n",
              "  </thead>\n",
              "  <tbody>\n",
              "    <tr>\n",
              "      <th>math</th>\n",
              "      <td>25</td>\n",
              "    </tr>\n",
              "    <tr>\n",
              "      <th>evs</th>\n",
              "      <td>25</td>\n",
              "    </tr>\n",
              "  </tbody>\n",
              "</table>\n",
              "</div><br><label><b>dtype:</b> int64</label>"
            ]
          },
          "metadata": {},
          "execution_count": 50
        }
      ]
    },
    {
      "cell_type": "code",
      "source": [
        "#upper limit is included\n",
        "marks['math':'emsb'] #for example here emsb is included unlike in python lists"
      ],
      "metadata": {
        "colab": {
          "base_uri": "https://localhost:8080/",
          "height": 209
        },
        "id": "P7IqZGPJzyeM",
        "outputId": "4d2c6369-e4e5-4b2f-eaaa-b811c709c47e"
      },
      "execution_count": null,
      "outputs": [
        {
          "output_type": "execute_result",
          "data": {
            "text/plain": [
              "math    25\n",
              "fee     25\n",
              "evs     25\n",
              "emsb    27\n",
              "Name: ananya's marks in mid sem, dtype: int64"
            ],
            "text/html": [
              "<div>\n",
              "<style scoped>\n",
              "    .dataframe tbody tr th:only-of-type {\n",
              "        vertical-align: middle;\n",
              "    }\n",
              "\n",
              "    .dataframe tbody tr th {\n",
              "        vertical-align: top;\n",
              "    }\n",
              "\n",
              "    .dataframe thead th {\n",
              "        text-align: right;\n",
              "    }\n",
              "</style>\n",
              "<table border=\"1\" class=\"dataframe\">\n",
              "  <thead>\n",
              "    <tr style=\"text-align: right;\">\n",
              "      <th></th>\n",
              "      <th>ananya's marks in mid sem</th>\n",
              "    </tr>\n",
              "  </thead>\n",
              "  <tbody>\n",
              "    <tr>\n",
              "      <th>math</th>\n",
              "      <td>25</td>\n",
              "    </tr>\n",
              "    <tr>\n",
              "      <th>fee</th>\n",
              "      <td>25</td>\n",
              "    </tr>\n",
              "    <tr>\n",
              "      <th>evs</th>\n",
              "      <td>25</td>\n",
              "    </tr>\n",
              "    <tr>\n",
              "      <th>emsb</th>\n",
              "      <td>27</td>\n",
              "    </tr>\n",
              "  </tbody>\n",
              "</table>\n",
              "</div><br><label><b>dtype:</b> int64</label>"
            ]
          },
          "metadata": {},
          "execution_count": 51
        }
      ]
    },
    {
      "cell_type": "code",
      "source": [
        "#boolean series(pandas) works same as boolean array(numpy)\n",
        "marks > 24"
      ],
      "metadata": {
        "colab": {
          "base_uri": "https://localhost:8080/",
          "height": 272
        },
        "id": "SHVDDVdR1RKr",
        "outputId": "f61f0a0b-6e8a-4a69-9a82-0ff5dca8c45f"
      },
      "execution_count": null,
      "outputs": [
        {
          "output_type": "execute_result",
          "data": {
            "text/plain": [
              "math     True\n",
              "fee      True\n",
              "evs      True\n",
              "emsb     True\n",
              "pps     False\n",
              "chem    False\n",
              "Name: ananya's marks in mid sem, dtype: bool"
            ],
            "text/html": [
              "<div>\n",
              "<style scoped>\n",
              "    .dataframe tbody tr th:only-of-type {\n",
              "        vertical-align: middle;\n",
              "    }\n",
              "\n",
              "    .dataframe tbody tr th {\n",
              "        vertical-align: top;\n",
              "    }\n",
              "\n",
              "    .dataframe thead th {\n",
              "        text-align: right;\n",
              "    }\n",
              "</style>\n",
              "<table border=\"1\" class=\"dataframe\">\n",
              "  <thead>\n",
              "    <tr style=\"text-align: right;\">\n",
              "      <th></th>\n",
              "      <th>ananya's marks in mid sem</th>\n",
              "    </tr>\n",
              "  </thead>\n",
              "  <tbody>\n",
              "    <tr>\n",
              "      <th>math</th>\n",
              "      <td>True</td>\n",
              "    </tr>\n",
              "    <tr>\n",
              "      <th>fee</th>\n",
              "      <td>True</td>\n",
              "    </tr>\n",
              "    <tr>\n",
              "      <th>evs</th>\n",
              "      <td>True</td>\n",
              "    </tr>\n",
              "    <tr>\n",
              "      <th>emsb</th>\n",
              "      <td>True</td>\n",
              "    </tr>\n",
              "    <tr>\n",
              "      <th>pps</th>\n",
              "      <td>False</td>\n",
              "    </tr>\n",
              "    <tr>\n",
              "      <th>chem</th>\n",
              "      <td>False</td>\n",
              "    </tr>\n",
              "  </tbody>\n",
              "</table>\n",
              "</div><br><label><b>dtype:</b> bool</label>"
            ]
          },
          "metadata": {},
          "execution_count": 52
        }
      ]
    },
    {
      "cell_type": "code",
      "source": [
        "marks[marks>24]"
      ],
      "metadata": {
        "colab": {
          "base_uri": "https://localhost:8080/",
          "height": 209
        },
        "id": "ukPqX7JI1XRs",
        "outputId": "7129bf88-b575-4960-ee1a-f1bb9da9cb5b"
      },
      "execution_count": null,
      "outputs": [
        {
          "output_type": "execute_result",
          "data": {
            "text/plain": [
              "math    25\n",
              "fee     25\n",
              "evs     25\n",
              "emsb    27\n",
              "Name: ananya's marks in mid sem, dtype: int64"
            ],
            "text/html": [
              "<div>\n",
              "<style scoped>\n",
              "    .dataframe tbody tr th:only-of-type {\n",
              "        vertical-align: middle;\n",
              "    }\n",
              "\n",
              "    .dataframe tbody tr th {\n",
              "        vertical-align: top;\n",
              "    }\n",
              "\n",
              "    .dataframe thead th {\n",
              "        text-align: right;\n",
              "    }\n",
              "</style>\n",
              "<table border=\"1\" class=\"dataframe\">\n",
              "  <thead>\n",
              "    <tr style=\"text-align: right;\">\n",
              "      <th></th>\n",
              "      <th>ananya's marks in mid sem</th>\n",
              "    </tr>\n",
              "  </thead>\n",
              "  <tbody>\n",
              "    <tr>\n",
              "      <th>math</th>\n",
              "      <td>25</td>\n",
              "    </tr>\n",
              "    <tr>\n",
              "      <th>fee</th>\n",
              "      <td>25</td>\n",
              "    </tr>\n",
              "    <tr>\n",
              "      <th>evs</th>\n",
              "      <td>25</td>\n",
              "    </tr>\n",
              "    <tr>\n",
              "      <th>emsb</th>\n",
              "      <td>27</td>\n",
              "    </tr>\n",
              "  </tbody>\n",
              "</table>\n",
              "</div><br><label><b>dtype:</b> int64</label>"
            ]
          },
          "metadata": {},
          "execution_count": 53
        }
      ]
    },
    {
      "cell_type": "code",
      "source": [
        "marks+2"
      ],
      "metadata": {
        "colab": {
          "base_uri": "https://localhost:8080/",
          "height": 272
        },
        "id": "bWlgK7bq1cBI",
        "outputId": "de911dad-3dbc-4690-c82e-4e521c5e545d"
      },
      "execution_count": null,
      "outputs": [
        {
          "output_type": "execute_result",
          "data": {
            "text/plain": [
              "math    27\n",
              "fee     27\n",
              "evs     27\n",
              "emsb    29\n",
              "pps     24\n",
              "chem    25\n",
              "Name: ananya's marks in mid sem, dtype: int64"
            ],
            "text/html": [
              "<div>\n",
              "<style scoped>\n",
              "    .dataframe tbody tr th:only-of-type {\n",
              "        vertical-align: middle;\n",
              "    }\n",
              "\n",
              "    .dataframe tbody tr th {\n",
              "        vertical-align: top;\n",
              "    }\n",
              "\n",
              "    .dataframe thead th {\n",
              "        text-align: right;\n",
              "    }\n",
              "</style>\n",
              "<table border=\"1\" class=\"dataframe\">\n",
              "  <thead>\n",
              "    <tr style=\"text-align: right;\">\n",
              "      <th></th>\n",
              "      <th>ananya's marks in mid sem</th>\n",
              "    </tr>\n",
              "  </thead>\n",
              "  <tbody>\n",
              "    <tr>\n",
              "      <th>math</th>\n",
              "      <td>27</td>\n",
              "    </tr>\n",
              "    <tr>\n",
              "      <th>fee</th>\n",
              "      <td>27</td>\n",
              "    </tr>\n",
              "    <tr>\n",
              "      <th>evs</th>\n",
              "      <td>27</td>\n",
              "    </tr>\n",
              "    <tr>\n",
              "      <th>emsb</th>\n",
              "      <td>29</td>\n",
              "    </tr>\n",
              "    <tr>\n",
              "      <th>pps</th>\n",
              "      <td>24</td>\n",
              "    </tr>\n",
              "    <tr>\n",
              "      <th>chem</th>\n",
              "      <td>25</td>\n",
              "    </tr>\n",
              "  </tbody>\n",
              "</table>\n",
              "</div><br><label><b>dtype:</b> int64</label>"
            ]
          },
          "metadata": {},
          "execution_count": 54
        }
      ]
    },
    {
      "cell_type": "code",
      "source": [
        "marks.mean()"
      ],
      "metadata": {
        "colab": {
          "base_uri": "https://localhost:8080/"
        },
        "id": "m6iCIW8W1nC2",
        "outputId": "ec853ece-887d-450a-868a-5c692eeace0d"
      },
      "execution_count": null,
      "outputs": [
        {
          "output_type": "execute_result",
          "data": {
            "text/plain": [
              "24.5"
            ]
          },
          "metadata": {},
          "execution_count": 55
        }
      ]
    },
    {
      "cell_type": "code",
      "source": [
        "marks['math']=27\n",
        "marks.iloc[-1]=25\n",
        "marks[marks<23]=28\n",
        "marks"
      ],
      "metadata": {
        "colab": {
          "base_uri": "https://localhost:8080/",
          "height": 272
        },
        "id": "jW0b3UpK2DEb",
        "outputId": "102c909a-d836-4894-da3b-64a690c01de6"
      },
      "execution_count": null,
      "outputs": [
        {
          "output_type": "execute_result",
          "data": {
            "text/plain": [
              "math    27\n",
              "fee     25\n",
              "evs     25\n",
              "emsb    27\n",
              "pps     28\n",
              "chem    25\n",
              "Name: ananya's marks in mid sem, dtype: int64"
            ],
            "text/html": [
              "<div>\n",
              "<style scoped>\n",
              "    .dataframe tbody tr th:only-of-type {\n",
              "        vertical-align: middle;\n",
              "    }\n",
              "\n",
              "    .dataframe tbody tr th {\n",
              "        vertical-align: top;\n",
              "    }\n",
              "\n",
              "    .dataframe thead th {\n",
              "        text-align: right;\n",
              "    }\n",
              "</style>\n",
              "<table border=\"1\" class=\"dataframe\">\n",
              "  <thead>\n",
              "    <tr style=\"text-align: right;\">\n",
              "      <th></th>\n",
              "      <th>ananya's marks in mid sem</th>\n",
              "    </tr>\n",
              "  </thead>\n",
              "  <tbody>\n",
              "    <tr>\n",
              "      <th>math</th>\n",
              "      <td>27</td>\n",
              "    </tr>\n",
              "    <tr>\n",
              "      <th>fee</th>\n",
              "      <td>25</td>\n",
              "    </tr>\n",
              "    <tr>\n",
              "      <th>evs</th>\n",
              "      <td>25</td>\n",
              "    </tr>\n",
              "    <tr>\n",
              "      <th>emsb</th>\n",
              "      <td>27</td>\n",
              "    </tr>\n",
              "    <tr>\n",
              "      <th>pps</th>\n",
              "      <td>28</td>\n",
              "    </tr>\n",
              "    <tr>\n",
              "      <th>chem</th>\n",
              "      <td>25</td>\n",
              "    </tr>\n",
              "  </tbody>\n",
              "</table>\n",
              "</div><br><label><b>dtype:</b> int64</label>"
            ]
          },
          "metadata": {},
          "execution_count": 56
        }
      ]
    },
    {
      "cell_type": "code",
      "source": [
        "df=pd.DataFrame({\n",
        "    'ananya': [29,27,28],\n",
        "    'abhay': [12,13,14],\n",
        "    'shriram': [30,15,13],\n",
        "    'anandhi': [30,30,30]\n",
        "},columns=['ananya','abhay','shriram','anandhi'])\n",
        "df\n"
      ],
      "metadata": {
        "colab": {
          "base_uri": "https://localhost:8080/",
          "height": 143
        },
        "id": "9iYFzalV3AvF",
        "outputId": "2a756a71-ee76-466d-a1d5-db3baebc5aeb"
      },
      "execution_count": null,
      "outputs": [
        {
          "output_type": "execute_result",
          "data": {
            "text/plain": [
              "   ananya  abhay  shriram  anandhi\n",
              "0      29     12       30       30\n",
              "1      27     13       15       30\n",
              "2      28     14       13       30"
            ],
            "text/html": [
              "\n",
              "  <div id=\"df-404bae55-fa93-4d37-a734-672414f12a8e\" class=\"colab-df-container\">\n",
              "    <div>\n",
              "<style scoped>\n",
              "    .dataframe tbody tr th:only-of-type {\n",
              "        vertical-align: middle;\n",
              "    }\n",
              "\n",
              "    .dataframe tbody tr th {\n",
              "        vertical-align: top;\n",
              "    }\n",
              "\n",
              "    .dataframe thead th {\n",
              "        text-align: right;\n",
              "    }\n",
              "</style>\n",
              "<table border=\"1\" class=\"dataframe\">\n",
              "  <thead>\n",
              "    <tr style=\"text-align: right;\">\n",
              "      <th></th>\n",
              "      <th>ananya</th>\n",
              "      <th>abhay</th>\n",
              "      <th>shriram</th>\n",
              "      <th>anandhi</th>\n",
              "    </tr>\n",
              "  </thead>\n",
              "  <tbody>\n",
              "    <tr>\n",
              "      <th>0</th>\n",
              "      <td>29</td>\n",
              "      <td>12</td>\n",
              "      <td>30</td>\n",
              "      <td>30</td>\n",
              "    </tr>\n",
              "    <tr>\n",
              "      <th>1</th>\n",
              "      <td>27</td>\n",
              "      <td>13</td>\n",
              "      <td>15</td>\n",
              "      <td>30</td>\n",
              "    </tr>\n",
              "    <tr>\n",
              "      <th>2</th>\n",
              "      <td>28</td>\n",
              "      <td>14</td>\n",
              "      <td>13</td>\n",
              "      <td>30</td>\n",
              "    </tr>\n",
              "  </tbody>\n",
              "</table>\n",
              "</div>\n",
              "    <div class=\"colab-df-buttons\">\n",
              "\n",
              "  <div class=\"colab-df-container\">\n",
              "    <button class=\"colab-df-convert\" onclick=\"convertToInteractive('df-404bae55-fa93-4d37-a734-672414f12a8e')\"\n",
              "            title=\"Convert this dataframe to an interactive table.\"\n",
              "            style=\"display:none;\">\n",
              "\n",
              "  <svg xmlns=\"http://www.w3.org/2000/svg\" height=\"24px\" viewBox=\"0 -960 960 960\">\n",
              "    <path d=\"M120-120v-720h720v720H120Zm60-500h600v-160H180v160Zm220 220h160v-160H400v160Zm0 220h160v-160H400v160ZM180-400h160v-160H180v160Zm440 0h160v-160H620v160ZM180-180h160v-160H180v160Zm440 0h160v-160H620v160Z\"/>\n",
              "  </svg>\n",
              "    </button>\n",
              "\n",
              "  <style>\n",
              "    .colab-df-container {\n",
              "      display:flex;\n",
              "      gap: 12px;\n",
              "    }\n",
              "\n",
              "    .colab-df-convert {\n",
              "      background-color: #E8F0FE;\n",
              "      border: none;\n",
              "      border-radius: 50%;\n",
              "      cursor: pointer;\n",
              "      display: none;\n",
              "      fill: #1967D2;\n",
              "      height: 32px;\n",
              "      padding: 0 0 0 0;\n",
              "      width: 32px;\n",
              "    }\n",
              "\n",
              "    .colab-df-convert:hover {\n",
              "      background-color: #E2EBFA;\n",
              "      box-shadow: 0px 1px 2px rgba(60, 64, 67, 0.3), 0px 1px 3px 1px rgba(60, 64, 67, 0.15);\n",
              "      fill: #174EA6;\n",
              "    }\n",
              "\n",
              "    .colab-df-buttons div {\n",
              "      margin-bottom: 4px;\n",
              "    }\n",
              "\n",
              "    [theme=dark] .colab-df-convert {\n",
              "      background-color: #3B4455;\n",
              "      fill: #D2E3FC;\n",
              "    }\n",
              "\n",
              "    [theme=dark] .colab-df-convert:hover {\n",
              "      background-color: #434B5C;\n",
              "      box-shadow: 0px 1px 3px 1px rgba(0, 0, 0, 0.15);\n",
              "      filter: drop-shadow(0px 1px 2px rgba(0, 0, 0, 0.3));\n",
              "      fill: #FFFFFF;\n",
              "    }\n",
              "  </style>\n",
              "\n",
              "    <script>\n",
              "      const buttonEl =\n",
              "        document.querySelector('#df-404bae55-fa93-4d37-a734-672414f12a8e button.colab-df-convert');\n",
              "      buttonEl.style.display =\n",
              "        google.colab.kernel.accessAllowed ? 'block' : 'none';\n",
              "\n",
              "      async function convertToInteractive(key) {\n",
              "        const element = document.querySelector('#df-404bae55-fa93-4d37-a734-672414f12a8e');\n",
              "        const dataTable =\n",
              "          await google.colab.kernel.invokeFunction('convertToInteractive',\n",
              "                                                    [key], {});\n",
              "        if (!dataTable) return;\n",
              "\n",
              "        const docLinkHtml = 'Like what you see? Visit the ' +\n",
              "          '<a target=\"_blank\" href=https://colab.research.google.com/notebooks/data_table.ipynb>data table notebook</a>'\n",
              "          + ' to learn more about interactive tables.';\n",
              "        element.innerHTML = '';\n",
              "        dataTable['output_type'] = 'display_data';\n",
              "        await google.colab.output.renderOutput(dataTable, element);\n",
              "        const docLink = document.createElement('div');\n",
              "        docLink.innerHTML = docLinkHtml;\n",
              "        element.appendChild(docLink);\n",
              "      }\n",
              "    </script>\n",
              "  </div>\n",
              "\n",
              "\n",
              "<div id=\"df-67402039-fb6d-4c94-9384-d6e77fca33ec\">\n",
              "  <button class=\"colab-df-quickchart\" onclick=\"quickchart('df-67402039-fb6d-4c94-9384-d6e77fca33ec')\"\n",
              "            title=\"Suggest charts\"\n",
              "            style=\"display:none;\">\n",
              "\n",
              "<svg xmlns=\"http://www.w3.org/2000/svg\" height=\"24px\"viewBox=\"0 0 24 24\"\n",
              "     width=\"24px\">\n",
              "    <g>\n",
              "        <path d=\"M19 3H5c-1.1 0-2 .9-2 2v14c0 1.1.9 2 2 2h14c1.1 0 2-.9 2-2V5c0-1.1-.9-2-2-2zM9 17H7v-7h2v7zm4 0h-2V7h2v10zm4 0h-2v-4h2v4z\"/>\n",
              "    </g>\n",
              "</svg>\n",
              "  </button>\n",
              "\n",
              "<style>\n",
              "  .colab-df-quickchart {\n",
              "      --bg-color: #E8F0FE;\n",
              "      --fill-color: #1967D2;\n",
              "      --hover-bg-color: #E2EBFA;\n",
              "      --hover-fill-color: #174EA6;\n",
              "      --disabled-fill-color: #AAA;\n",
              "      --disabled-bg-color: #DDD;\n",
              "  }\n",
              "\n",
              "  [theme=dark] .colab-df-quickchart {\n",
              "      --bg-color: #3B4455;\n",
              "      --fill-color: #D2E3FC;\n",
              "      --hover-bg-color: #434B5C;\n",
              "      --hover-fill-color: #FFFFFF;\n",
              "      --disabled-bg-color: #3B4455;\n",
              "      --disabled-fill-color: #666;\n",
              "  }\n",
              "\n",
              "  .colab-df-quickchart {\n",
              "    background-color: var(--bg-color);\n",
              "    border: none;\n",
              "    border-radius: 50%;\n",
              "    cursor: pointer;\n",
              "    display: none;\n",
              "    fill: var(--fill-color);\n",
              "    height: 32px;\n",
              "    padding: 0;\n",
              "    width: 32px;\n",
              "  }\n",
              "\n",
              "  .colab-df-quickchart:hover {\n",
              "    background-color: var(--hover-bg-color);\n",
              "    box-shadow: 0 1px 2px rgba(60, 64, 67, 0.3), 0 1px 3px 1px rgba(60, 64, 67, 0.15);\n",
              "    fill: var(--button-hover-fill-color);\n",
              "  }\n",
              "\n",
              "  .colab-df-quickchart-complete:disabled,\n",
              "  .colab-df-quickchart-complete:disabled:hover {\n",
              "    background-color: var(--disabled-bg-color);\n",
              "    fill: var(--disabled-fill-color);\n",
              "    box-shadow: none;\n",
              "  }\n",
              "\n",
              "  .colab-df-spinner {\n",
              "    border: 2px solid var(--fill-color);\n",
              "    border-color: transparent;\n",
              "    border-bottom-color: var(--fill-color);\n",
              "    animation:\n",
              "      spin 1s steps(1) infinite;\n",
              "  }\n",
              "\n",
              "  @keyframes spin {\n",
              "    0% {\n",
              "      border-color: transparent;\n",
              "      border-bottom-color: var(--fill-color);\n",
              "      border-left-color: var(--fill-color);\n",
              "    }\n",
              "    20% {\n",
              "      border-color: transparent;\n",
              "      border-left-color: var(--fill-color);\n",
              "      border-top-color: var(--fill-color);\n",
              "    }\n",
              "    30% {\n",
              "      border-color: transparent;\n",
              "      border-left-color: var(--fill-color);\n",
              "      border-top-color: var(--fill-color);\n",
              "      border-right-color: var(--fill-color);\n",
              "    }\n",
              "    40% {\n",
              "      border-color: transparent;\n",
              "      border-right-color: var(--fill-color);\n",
              "      border-top-color: var(--fill-color);\n",
              "    }\n",
              "    60% {\n",
              "      border-color: transparent;\n",
              "      border-right-color: var(--fill-color);\n",
              "    }\n",
              "    80% {\n",
              "      border-color: transparent;\n",
              "      border-right-color: var(--fill-color);\n",
              "      border-bottom-color: var(--fill-color);\n",
              "    }\n",
              "    90% {\n",
              "      border-color: transparent;\n",
              "      border-bottom-color: var(--fill-color);\n",
              "    }\n",
              "  }\n",
              "</style>\n",
              "\n",
              "  <script>\n",
              "    async function quickchart(key) {\n",
              "      const quickchartButtonEl =\n",
              "        document.querySelector('#' + key + ' button');\n",
              "      quickchartButtonEl.disabled = true;  // To prevent multiple clicks.\n",
              "      quickchartButtonEl.classList.add('colab-df-spinner');\n",
              "      try {\n",
              "        const charts = await google.colab.kernel.invokeFunction(\n",
              "            'suggestCharts', [key], {});\n",
              "      } catch (error) {\n",
              "        console.error('Error during call to suggestCharts:', error);\n",
              "      }\n",
              "      quickchartButtonEl.classList.remove('colab-df-spinner');\n",
              "      quickchartButtonEl.classList.add('colab-df-quickchart-complete');\n",
              "    }\n",
              "    (() => {\n",
              "      let quickchartButtonEl =\n",
              "        document.querySelector('#df-67402039-fb6d-4c94-9384-d6e77fca33ec button');\n",
              "      quickchartButtonEl.style.display =\n",
              "        google.colab.kernel.accessAllowed ? 'block' : 'none';\n",
              "    })();\n",
              "  </script>\n",
              "</div>\n",
              "\n",
              "  <div id=\"id_d53835ba-c459-48e8-bfcf-fcf181fe0f8a\">\n",
              "    <style>\n",
              "      .colab-df-generate {\n",
              "        background-color: #E8F0FE;\n",
              "        border: none;\n",
              "        border-radius: 50%;\n",
              "        cursor: pointer;\n",
              "        display: none;\n",
              "        fill: #1967D2;\n",
              "        height: 32px;\n",
              "        padding: 0 0 0 0;\n",
              "        width: 32px;\n",
              "      }\n",
              "\n",
              "      .colab-df-generate:hover {\n",
              "        background-color: #E2EBFA;\n",
              "        box-shadow: 0px 1px 2px rgba(60, 64, 67, 0.3), 0px 1px 3px 1px rgba(60, 64, 67, 0.15);\n",
              "        fill: #174EA6;\n",
              "      }\n",
              "\n",
              "      [theme=dark] .colab-df-generate {\n",
              "        background-color: #3B4455;\n",
              "        fill: #D2E3FC;\n",
              "      }\n",
              "\n",
              "      [theme=dark] .colab-df-generate:hover {\n",
              "        background-color: #434B5C;\n",
              "        box-shadow: 0px 1px 3px 1px rgba(0, 0, 0, 0.15);\n",
              "        filter: drop-shadow(0px 1px 2px rgba(0, 0, 0, 0.3));\n",
              "        fill: #FFFFFF;\n",
              "      }\n",
              "    </style>\n",
              "    <button class=\"colab-df-generate\" onclick=\"generateWithVariable('df')\"\n",
              "            title=\"Generate code using this dataframe.\"\n",
              "            style=\"display:none;\">\n",
              "\n",
              "  <svg xmlns=\"http://www.w3.org/2000/svg\" height=\"24px\"viewBox=\"0 0 24 24\"\n",
              "       width=\"24px\">\n",
              "    <path d=\"M7,19H8.4L18.45,9,17,7.55,7,17.6ZM5,21V16.75L18.45,3.32a2,2,0,0,1,2.83,0l1.4,1.43a1.91,1.91,0,0,1,.58,1.4,1.91,1.91,0,0,1-.58,1.4L9.25,21ZM18.45,9,17,7.55Zm-12,3A5.31,5.31,0,0,0,4.9,8.1,5.31,5.31,0,0,0,1,6.5,5.31,5.31,0,0,0,4.9,4.9,5.31,5.31,0,0,0,6.5,1,5.31,5.31,0,0,0,8.1,4.9,5.31,5.31,0,0,0,12,6.5,5.46,5.46,0,0,0,6.5,12Z\"/>\n",
              "  </svg>\n",
              "    </button>\n",
              "    <script>\n",
              "      (() => {\n",
              "      const buttonEl =\n",
              "        document.querySelector('#id_d53835ba-c459-48e8-bfcf-fcf181fe0f8a button.colab-df-generate');\n",
              "      buttonEl.style.display =\n",
              "        google.colab.kernel.accessAllowed ? 'block' : 'none';\n",
              "\n",
              "      buttonEl.onclick = () => {\n",
              "        google.colab.notebook.generateWithVariable('df');\n",
              "      }\n",
              "      })();\n",
              "    </script>\n",
              "  </div>\n",
              "\n",
              "    </div>\n",
              "  </div>\n"
            ],
            "application/vnd.google.colaboratory.intrinsic+json": {
              "type": "dataframe",
              "variable_name": "df",
              "summary": "{\n  \"name\": \"df\",\n  \"rows\": 3,\n  \"fields\": [\n    {\n      \"column\": \"ananya\",\n      \"properties\": {\n        \"dtype\": \"number\",\n        \"std\": 1,\n        \"min\": 27,\n        \"max\": 29,\n        \"num_unique_values\": 3,\n        \"samples\": [\n          29,\n          27,\n          28\n        ],\n        \"semantic_type\": \"\",\n        \"description\": \"\"\n      }\n    },\n    {\n      \"column\": \"abhay\",\n      \"properties\": {\n        \"dtype\": \"number\",\n        \"std\": 1,\n        \"min\": 12,\n        \"max\": 14,\n        \"num_unique_values\": 3,\n        \"samples\": [\n          12,\n          13,\n          14\n        ],\n        \"semantic_type\": \"\",\n        \"description\": \"\"\n      }\n    },\n    {\n      \"column\": \"shriram\",\n      \"properties\": {\n        \"dtype\": \"number\",\n        \"std\": 9,\n        \"min\": 13,\n        \"max\": 30,\n        \"num_unique_values\": 3,\n        \"samples\": [\n          30,\n          15,\n          13\n        ],\n        \"semantic_type\": \"\",\n        \"description\": \"\"\n      }\n    },\n    {\n      \"column\": \"anandhi\",\n      \"properties\": {\n        \"dtype\": \"number\",\n        \"std\": 0,\n        \"min\": 30,\n        \"max\": 30,\n        \"num_unique_values\": 1,\n        \"samples\": [\n          30\n        ],\n        \"semantic_type\": \"\",\n        \"description\": \"\"\n      }\n    }\n  ]\n}"
            }
          },
          "metadata": {},
          "execution_count": 3
        }
      ]
    },
    {
      "cell_type": "code",
      "source": [
        "df.index=['math','fee','chem']\n",
        "df"
      ],
      "metadata": {
        "colab": {
          "base_uri": "https://localhost:8080/",
          "height": 143
        },
        "id": "B3i-EuFt380V",
        "outputId": "ee20fcc7-ed2a-4a1f-b399-299c155dd4cf"
      },
      "execution_count": null,
      "outputs": [
        {
          "output_type": "execute_result",
          "data": {
            "text/plain": [
              "      ananya  abhay  shriram  anandhi\n",
              "math      29     12       30       30\n",
              "fee       27     13       15       30\n",
              "chem      28     14       13       30"
            ],
            "text/html": [
              "\n",
              "  <div id=\"df-91a652fd-a75f-4190-8b19-2fffd79df811\" class=\"colab-df-container\">\n",
              "    <div>\n",
              "<style scoped>\n",
              "    .dataframe tbody tr th:only-of-type {\n",
              "        vertical-align: middle;\n",
              "    }\n",
              "\n",
              "    .dataframe tbody tr th {\n",
              "        vertical-align: top;\n",
              "    }\n",
              "\n",
              "    .dataframe thead th {\n",
              "        text-align: right;\n",
              "    }\n",
              "</style>\n",
              "<table border=\"1\" class=\"dataframe\">\n",
              "  <thead>\n",
              "    <tr style=\"text-align: right;\">\n",
              "      <th></th>\n",
              "      <th>ananya</th>\n",
              "      <th>abhay</th>\n",
              "      <th>shriram</th>\n",
              "      <th>anandhi</th>\n",
              "    </tr>\n",
              "  </thead>\n",
              "  <tbody>\n",
              "    <tr>\n",
              "      <th>math</th>\n",
              "      <td>29</td>\n",
              "      <td>12</td>\n",
              "      <td>30</td>\n",
              "      <td>30</td>\n",
              "    </tr>\n",
              "    <tr>\n",
              "      <th>fee</th>\n",
              "      <td>27</td>\n",
              "      <td>13</td>\n",
              "      <td>15</td>\n",
              "      <td>30</td>\n",
              "    </tr>\n",
              "    <tr>\n",
              "      <th>chem</th>\n",
              "      <td>28</td>\n",
              "      <td>14</td>\n",
              "      <td>13</td>\n",
              "      <td>30</td>\n",
              "    </tr>\n",
              "  </tbody>\n",
              "</table>\n",
              "</div>\n",
              "    <div class=\"colab-df-buttons\">\n",
              "\n",
              "  <div class=\"colab-df-container\">\n",
              "    <button class=\"colab-df-convert\" onclick=\"convertToInteractive('df-91a652fd-a75f-4190-8b19-2fffd79df811')\"\n",
              "            title=\"Convert this dataframe to an interactive table.\"\n",
              "            style=\"display:none;\">\n",
              "\n",
              "  <svg xmlns=\"http://www.w3.org/2000/svg\" height=\"24px\" viewBox=\"0 -960 960 960\">\n",
              "    <path d=\"M120-120v-720h720v720H120Zm60-500h600v-160H180v160Zm220 220h160v-160H400v160Zm0 220h160v-160H400v160ZM180-400h160v-160H180v160Zm440 0h160v-160H620v160ZM180-180h160v-160H180v160Zm440 0h160v-160H620v160Z\"/>\n",
              "  </svg>\n",
              "    </button>\n",
              "\n",
              "  <style>\n",
              "    .colab-df-container {\n",
              "      display:flex;\n",
              "      gap: 12px;\n",
              "    }\n",
              "\n",
              "    .colab-df-convert {\n",
              "      background-color: #E8F0FE;\n",
              "      border: none;\n",
              "      border-radius: 50%;\n",
              "      cursor: pointer;\n",
              "      display: none;\n",
              "      fill: #1967D2;\n",
              "      height: 32px;\n",
              "      padding: 0 0 0 0;\n",
              "      width: 32px;\n",
              "    }\n",
              "\n",
              "    .colab-df-convert:hover {\n",
              "      background-color: #E2EBFA;\n",
              "      box-shadow: 0px 1px 2px rgba(60, 64, 67, 0.3), 0px 1px 3px 1px rgba(60, 64, 67, 0.15);\n",
              "      fill: #174EA6;\n",
              "    }\n",
              "\n",
              "    .colab-df-buttons div {\n",
              "      margin-bottom: 4px;\n",
              "    }\n",
              "\n",
              "    [theme=dark] .colab-df-convert {\n",
              "      background-color: #3B4455;\n",
              "      fill: #D2E3FC;\n",
              "    }\n",
              "\n",
              "    [theme=dark] .colab-df-convert:hover {\n",
              "      background-color: #434B5C;\n",
              "      box-shadow: 0px 1px 3px 1px rgba(0, 0, 0, 0.15);\n",
              "      filter: drop-shadow(0px 1px 2px rgba(0, 0, 0, 0.3));\n",
              "      fill: #FFFFFF;\n",
              "    }\n",
              "  </style>\n",
              "\n",
              "    <script>\n",
              "      const buttonEl =\n",
              "        document.querySelector('#df-91a652fd-a75f-4190-8b19-2fffd79df811 button.colab-df-convert');\n",
              "      buttonEl.style.display =\n",
              "        google.colab.kernel.accessAllowed ? 'block' : 'none';\n",
              "\n",
              "      async function convertToInteractive(key) {\n",
              "        const element = document.querySelector('#df-91a652fd-a75f-4190-8b19-2fffd79df811');\n",
              "        const dataTable =\n",
              "          await google.colab.kernel.invokeFunction('convertToInteractive',\n",
              "                                                    [key], {});\n",
              "        if (!dataTable) return;\n",
              "\n",
              "        const docLinkHtml = 'Like what you see? Visit the ' +\n",
              "          '<a target=\"_blank\" href=https://colab.research.google.com/notebooks/data_table.ipynb>data table notebook</a>'\n",
              "          + ' to learn more about interactive tables.';\n",
              "        element.innerHTML = '';\n",
              "        dataTable['output_type'] = 'display_data';\n",
              "        await google.colab.output.renderOutput(dataTable, element);\n",
              "        const docLink = document.createElement('div');\n",
              "        docLink.innerHTML = docLinkHtml;\n",
              "        element.appendChild(docLink);\n",
              "      }\n",
              "    </script>\n",
              "  </div>\n",
              "\n",
              "\n",
              "<div id=\"df-d675090b-7733-4a1b-b8db-76551be10adb\">\n",
              "  <button class=\"colab-df-quickchart\" onclick=\"quickchart('df-d675090b-7733-4a1b-b8db-76551be10adb')\"\n",
              "            title=\"Suggest charts\"\n",
              "            style=\"display:none;\">\n",
              "\n",
              "<svg xmlns=\"http://www.w3.org/2000/svg\" height=\"24px\"viewBox=\"0 0 24 24\"\n",
              "     width=\"24px\">\n",
              "    <g>\n",
              "        <path d=\"M19 3H5c-1.1 0-2 .9-2 2v14c0 1.1.9 2 2 2h14c1.1 0 2-.9 2-2V5c0-1.1-.9-2-2-2zM9 17H7v-7h2v7zm4 0h-2V7h2v10zm4 0h-2v-4h2v4z\"/>\n",
              "    </g>\n",
              "</svg>\n",
              "  </button>\n",
              "\n",
              "<style>\n",
              "  .colab-df-quickchart {\n",
              "      --bg-color: #E8F0FE;\n",
              "      --fill-color: #1967D2;\n",
              "      --hover-bg-color: #E2EBFA;\n",
              "      --hover-fill-color: #174EA6;\n",
              "      --disabled-fill-color: #AAA;\n",
              "      --disabled-bg-color: #DDD;\n",
              "  }\n",
              "\n",
              "  [theme=dark] .colab-df-quickchart {\n",
              "      --bg-color: #3B4455;\n",
              "      --fill-color: #D2E3FC;\n",
              "      --hover-bg-color: #434B5C;\n",
              "      --hover-fill-color: #FFFFFF;\n",
              "      --disabled-bg-color: #3B4455;\n",
              "      --disabled-fill-color: #666;\n",
              "  }\n",
              "\n",
              "  .colab-df-quickchart {\n",
              "    background-color: var(--bg-color);\n",
              "    border: none;\n",
              "    border-radius: 50%;\n",
              "    cursor: pointer;\n",
              "    display: none;\n",
              "    fill: var(--fill-color);\n",
              "    height: 32px;\n",
              "    padding: 0;\n",
              "    width: 32px;\n",
              "  }\n",
              "\n",
              "  .colab-df-quickchart:hover {\n",
              "    background-color: var(--hover-bg-color);\n",
              "    box-shadow: 0 1px 2px rgba(60, 64, 67, 0.3), 0 1px 3px 1px rgba(60, 64, 67, 0.15);\n",
              "    fill: var(--button-hover-fill-color);\n",
              "  }\n",
              "\n",
              "  .colab-df-quickchart-complete:disabled,\n",
              "  .colab-df-quickchart-complete:disabled:hover {\n",
              "    background-color: var(--disabled-bg-color);\n",
              "    fill: var(--disabled-fill-color);\n",
              "    box-shadow: none;\n",
              "  }\n",
              "\n",
              "  .colab-df-spinner {\n",
              "    border: 2px solid var(--fill-color);\n",
              "    border-color: transparent;\n",
              "    border-bottom-color: var(--fill-color);\n",
              "    animation:\n",
              "      spin 1s steps(1) infinite;\n",
              "  }\n",
              "\n",
              "  @keyframes spin {\n",
              "    0% {\n",
              "      border-color: transparent;\n",
              "      border-bottom-color: var(--fill-color);\n",
              "      border-left-color: var(--fill-color);\n",
              "    }\n",
              "    20% {\n",
              "      border-color: transparent;\n",
              "      border-left-color: var(--fill-color);\n",
              "      border-top-color: var(--fill-color);\n",
              "    }\n",
              "    30% {\n",
              "      border-color: transparent;\n",
              "      border-left-color: var(--fill-color);\n",
              "      border-top-color: var(--fill-color);\n",
              "      border-right-color: var(--fill-color);\n",
              "    }\n",
              "    40% {\n",
              "      border-color: transparent;\n",
              "      border-right-color: var(--fill-color);\n",
              "      border-top-color: var(--fill-color);\n",
              "    }\n",
              "    60% {\n",
              "      border-color: transparent;\n",
              "      border-right-color: var(--fill-color);\n",
              "    }\n",
              "    80% {\n",
              "      border-color: transparent;\n",
              "      border-right-color: var(--fill-color);\n",
              "      border-bottom-color: var(--fill-color);\n",
              "    }\n",
              "    90% {\n",
              "      border-color: transparent;\n",
              "      border-bottom-color: var(--fill-color);\n",
              "    }\n",
              "  }\n",
              "</style>\n",
              "\n",
              "  <script>\n",
              "    async function quickchart(key) {\n",
              "      const quickchartButtonEl =\n",
              "        document.querySelector('#' + key + ' button');\n",
              "      quickchartButtonEl.disabled = true;  // To prevent multiple clicks.\n",
              "      quickchartButtonEl.classList.add('colab-df-spinner');\n",
              "      try {\n",
              "        const charts = await google.colab.kernel.invokeFunction(\n",
              "            'suggestCharts', [key], {});\n",
              "      } catch (error) {\n",
              "        console.error('Error during call to suggestCharts:', error);\n",
              "      }\n",
              "      quickchartButtonEl.classList.remove('colab-df-spinner');\n",
              "      quickchartButtonEl.classList.add('colab-df-quickchart-complete');\n",
              "    }\n",
              "    (() => {\n",
              "      let quickchartButtonEl =\n",
              "        document.querySelector('#df-d675090b-7733-4a1b-b8db-76551be10adb button');\n",
              "      quickchartButtonEl.style.display =\n",
              "        google.colab.kernel.accessAllowed ? 'block' : 'none';\n",
              "    })();\n",
              "  </script>\n",
              "</div>\n",
              "\n",
              "  <div id=\"id_35d5a78c-90f0-4830-a2e1-89fe247b8199\">\n",
              "    <style>\n",
              "      .colab-df-generate {\n",
              "        background-color: #E8F0FE;\n",
              "        border: none;\n",
              "        border-radius: 50%;\n",
              "        cursor: pointer;\n",
              "        display: none;\n",
              "        fill: #1967D2;\n",
              "        height: 32px;\n",
              "        padding: 0 0 0 0;\n",
              "        width: 32px;\n",
              "      }\n",
              "\n",
              "      .colab-df-generate:hover {\n",
              "        background-color: #E2EBFA;\n",
              "        box-shadow: 0px 1px 2px rgba(60, 64, 67, 0.3), 0px 1px 3px 1px rgba(60, 64, 67, 0.15);\n",
              "        fill: #174EA6;\n",
              "      }\n",
              "\n",
              "      [theme=dark] .colab-df-generate {\n",
              "        background-color: #3B4455;\n",
              "        fill: #D2E3FC;\n",
              "      }\n",
              "\n",
              "      [theme=dark] .colab-df-generate:hover {\n",
              "        background-color: #434B5C;\n",
              "        box-shadow: 0px 1px 3px 1px rgba(0, 0, 0, 0.15);\n",
              "        filter: drop-shadow(0px 1px 2px rgba(0, 0, 0, 0.3));\n",
              "        fill: #FFFFFF;\n",
              "      }\n",
              "    </style>\n",
              "    <button class=\"colab-df-generate\" onclick=\"generateWithVariable('df')\"\n",
              "            title=\"Generate code using this dataframe.\"\n",
              "            style=\"display:none;\">\n",
              "\n",
              "  <svg xmlns=\"http://www.w3.org/2000/svg\" height=\"24px\"viewBox=\"0 0 24 24\"\n",
              "       width=\"24px\">\n",
              "    <path d=\"M7,19H8.4L18.45,9,17,7.55,7,17.6ZM5,21V16.75L18.45,3.32a2,2,0,0,1,2.83,0l1.4,1.43a1.91,1.91,0,0,1,.58,1.4,1.91,1.91,0,0,1-.58,1.4L9.25,21ZM18.45,9,17,7.55Zm-12,3A5.31,5.31,0,0,0,4.9,8.1,5.31,5.31,0,0,0,1,6.5,5.31,5.31,0,0,0,4.9,4.9,5.31,5.31,0,0,0,6.5,1,5.31,5.31,0,0,0,8.1,4.9,5.31,5.31,0,0,0,12,6.5,5.46,5.46,0,0,0,6.5,12Z\"/>\n",
              "  </svg>\n",
              "    </button>\n",
              "    <script>\n",
              "      (() => {\n",
              "      const buttonEl =\n",
              "        document.querySelector('#id_35d5a78c-90f0-4830-a2e1-89fe247b8199 button.colab-df-generate');\n",
              "      buttonEl.style.display =\n",
              "        google.colab.kernel.accessAllowed ? 'block' : 'none';\n",
              "\n",
              "      buttonEl.onclick = () => {\n",
              "        google.colab.notebook.generateWithVariable('df');\n",
              "      }\n",
              "      })();\n",
              "    </script>\n",
              "  </div>\n",
              "\n",
              "    </div>\n",
              "  </div>\n"
            ],
            "application/vnd.google.colaboratory.intrinsic+json": {
              "type": "dataframe",
              "variable_name": "df",
              "summary": "{\n  \"name\": \"df\",\n  \"rows\": 3,\n  \"fields\": [\n    {\n      \"column\": \"ananya\",\n      \"properties\": {\n        \"dtype\": \"number\",\n        \"std\": 1,\n        \"min\": 27,\n        \"max\": 29,\n        \"num_unique_values\": 3,\n        \"samples\": [\n          29,\n          27,\n          28\n        ],\n        \"semantic_type\": \"\",\n        \"description\": \"\"\n      }\n    },\n    {\n      \"column\": \"abhay\",\n      \"properties\": {\n        \"dtype\": \"number\",\n        \"std\": 1,\n        \"min\": 12,\n        \"max\": 14,\n        \"num_unique_values\": 3,\n        \"samples\": [\n          12,\n          13,\n          14\n        ],\n        \"semantic_type\": \"\",\n        \"description\": \"\"\n      }\n    },\n    {\n      \"column\": \"shriram\",\n      \"properties\": {\n        \"dtype\": \"number\",\n        \"std\": 9,\n        \"min\": 13,\n        \"max\": 30,\n        \"num_unique_values\": 3,\n        \"samples\": [\n          30,\n          15,\n          13\n        ],\n        \"semantic_type\": \"\",\n        \"description\": \"\"\n      }\n    },\n    {\n      \"column\": \"anandhi\",\n      \"properties\": {\n        \"dtype\": \"number\",\n        \"std\": 0,\n        \"min\": 30,\n        \"max\": 30,\n        \"num_unique_values\": 1,\n        \"samples\": [\n          30\n        ],\n        \"semantic_type\": \"\",\n        \"description\": \"\"\n      }\n    }\n  ]\n}"
            }
          },
          "metadata": {},
          "execution_count": 4
        }
      ]
    },
    {
      "cell_type": "code",
      "source": [
        "df.info()"
      ],
      "metadata": {
        "colab": {
          "base_uri": "https://localhost:8080/"
        },
        "id": "HyMwu_Xo4sMK",
        "outputId": "3ff4a1e1-518b-4540-eaba-2b83a36094d4"
      },
      "execution_count": null,
      "outputs": [
        {
          "output_type": "stream",
          "name": "stdout",
          "text": [
            "<class 'pandas.core.frame.DataFrame'>\n",
            "Index: 3 entries, math to chem\n",
            "Data columns (total 4 columns):\n",
            " #   Column   Non-Null Count  Dtype\n",
            "---  ------   --------------  -----\n",
            " 0   ananya   3 non-null      int64\n",
            " 1   abhay    3 non-null      int64\n",
            " 2   shriram  3 non-null      int64\n",
            " 3   anandhi  3 non-null      int64\n",
            "dtypes: int64(4)\n",
            "memory usage: 228.0+ bytes\n"
          ]
        }
      ]
    },
    {
      "cell_type": "code",
      "source": [
        "df.shape"
      ],
      "metadata": {
        "colab": {
          "base_uri": "https://localhost:8080/"
        },
        "id": "QPRFXv064xfQ",
        "outputId": "c63cf9e8-bf8f-4277-bdb5-4ba70334344d"
      },
      "execution_count": null,
      "outputs": [
        {
          "output_type": "execute_result",
          "data": {
            "text/plain": [
              "(3, 4)"
            ]
          },
          "metadata": {},
          "execution_count": 65
        }
      ]
    },
    {
      "cell_type": "code",
      "source": [
        "df.size"
      ],
      "metadata": {
        "colab": {
          "base_uri": "https://localhost:8080/"
        },
        "id": "jGdUj9dU4-QI",
        "outputId": "cd9c6158-7fa0-4081-c253-82e3c6dd8b59"
      },
      "execution_count": null,
      "outputs": [
        {
          "output_type": "execute_result",
          "data": {
            "text/plain": [
              "12"
            ]
          },
          "metadata": {},
          "execution_count": 66
        }
      ]
    },
    {
      "cell_type": "code",
      "source": [
        "df.columns"
      ],
      "metadata": {
        "colab": {
          "base_uri": "https://localhost:8080/"
        },
        "id": "WQ42589T5BYl",
        "outputId": "a558f2b2-82cb-4982-a30d-af14258d78ea"
      },
      "execution_count": null,
      "outputs": [
        {
          "output_type": "execute_result",
          "data": {
            "text/plain": [
              "Index(['ananya', 'abhay', 'shriram', 'anandhi'], dtype='object')"
            ]
          },
          "metadata": {},
          "execution_count": 67
        }
      ]
    },
    {
      "cell_type": "code",
      "source": [
        "df.loc['math']"
      ],
      "metadata": {
        "colab": {
          "base_uri": "https://localhost:8080/",
          "height": 209
        },
        "id": "-O11JAEm7wSI",
        "outputId": "1ad43d73-d824-45fc-d066-de5e26c694c6"
      },
      "execution_count": null,
      "outputs": [
        {
          "output_type": "execute_result",
          "data": {
            "text/plain": [
              "ananya     29\n",
              "abhay      12\n",
              "shriram    30\n",
              "anandhi    30\n",
              "Name: math, dtype: int64"
            ],
            "text/html": [
              "<div>\n",
              "<style scoped>\n",
              "    .dataframe tbody tr th:only-of-type {\n",
              "        vertical-align: middle;\n",
              "    }\n",
              "\n",
              "    .dataframe tbody tr th {\n",
              "        vertical-align: top;\n",
              "    }\n",
              "\n",
              "    .dataframe thead th {\n",
              "        text-align: right;\n",
              "    }\n",
              "</style>\n",
              "<table border=\"1\" class=\"dataframe\">\n",
              "  <thead>\n",
              "    <tr style=\"text-align: right;\">\n",
              "      <th></th>\n",
              "      <th>math</th>\n",
              "    </tr>\n",
              "  </thead>\n",
              "  <tbody>\n",
              "    <tr>\n",
              "      <th>ananya</th>\n",
              "      <td>29</td>\n",
              "    </tr>\n",
              "    <tr>\n",
              "      <th>abhay</th>\n",
              "      <td>12</td>\n",
              "    </tr>\n",
              "    <tr>\n",
              "      <th>shriram</th>\n",
              "      <td>30</td>\n",
              "    </tr>\n",
              "    <tr>\n",
              "      <th>anandhi</th>\n",
              "      <td>30</td>\n",
              "    </tr>\n",
              "  </tbody>\n",
              "</table>\n",
              "</div><br><label><b>dtype:</b> int64</label>"
            ]
          },
          "metadata": {},
          "execution_count": 5
        }
      ]
    },
    {
      "cell_type": "code",
      "source": [
        "df['ananya'] > 29"
      ],
      "metadata": {
        "colab": {
          "base_uri": "https://localhost:8080/",
          "height": 178
        },
        "id": "-wMCxAM68ex5",
        "outputId": "e715546a-eb77-479f-fcf1-26d7eb4cb44e"
      },
      "execution_count": null,
      "outputs": [
        {
          "output_type": "execute_result",
          "data": {
            "text/plain": [
              "0    False\n",
              "1    False\n",
              "2    False\n",
              "Name: ananya, dtype: bool"
            ],
            "text/html": [
              "<div>\n",
              "<style scoped>\n",
              "    .dataframe tbody tr th:only-of-type {\n",
              "        vertical-align: middle;\n",
              "    }\n",
              "\n",
              "    .dataframe tbody tr th {\n",
              "        vertical-align: top;\n",
              "    }\n",
              "\n",
              "    .dataframe thead th {\n",
              "        text-align: right;\n",
              "    }\n",
              "</style>\n",
              "<table border=\"1\" class=\"dataframe\">\n",
              "  <thead>\n",
              "    <tr style=\"text-align: right;\">\n",
              "      <th></th>\n",
              "      <th>ananya</th>\n",
              "    </tr>\n",
              "  </thead>\n",
              "  <tbody>\n",
              "    <tr>\n",
              "      <th>0</th>\n",
              "      <td>False</td>\n",
              "    </tr>\n",
              "    <tr>\n",
              "      <th>1</th>\n",
              "      <td>False</td>\n",
              "    </tr>\n",
              "    <tr>\n",
              "      <th>2</th>\n",
              "      <td>False</td>\n",
              "    </tr>\n",
              "  </tbody>\n",
              "</table>\n",
              "</div><br><label><b>dtype:</b> bool</label>"
            ]
          },
          "metadata": {},
          "execution_count": 18
        }
      ]
    },
    {
      "cell_type": "code",
      "source": [
        "import numpy as np\n",
        "import pandas as pd\n",
        "import matplotlib.pyplot as plt\n",
        "matches=pd.read_csv('/content/drive/MyDrive/RUGVED/matches.csv')\n",
        "deliveries=pd.read_csv('/content/drive/MyDrive/RUGVED/deliveries.csv')"
      ],
      "metadata": {
        "id": "uYhR7D1ZcctF"
      },
      "execution_count": null,
      "outputs": []
    },
    {
      "cell_type": "code",
      "source": [
        "#1\n",
        "count=0\n",
        "if (matches['season']==2008).any():\n",
        "  count = matches[matches['season']==2008].shape[0]\n",
        "\n",
        "print(\"number of matches played in 2008 = \",count)\n",
        "\n"
      ],
      "metadata": {
        "colab": {
          "base_uri": "https://localhost:8080/"
        },
        "id": "auMV3u0TkqSy",
        "outputId": "d5ab6be5-9ff2-4bfe-e3b3-f5e2df878fde"
      },
      "execution_count": null,
      "outputs": [
        {
          "output_type": "stream",
          "name": "stdout",
          "text": [
            "number of matches played in 2008 =  58\n"
          ]
        }
      ]
    },
    {
      "cell_type": "code",
      "source": [
        "#2\n",
        "x=matches['city'].value_counts()\n",
        "b=np.array(x)\n",
        "\n",
        "max_index=np.max(b)\n",
        "max_city =x[x == max_index].index[0]\n",
        "print(\"maximum number of matches were played in \", max_city)\n",
        "\n",
        "min_index=np.min(b)\n",
        "min_city=x[x == min_index].index[0]\n",
        "print(\"minimum number of matches were played in \", min_city)"
      ],
      "metadata": {
        "colab": {
          "base_uri": "https://localhost:8080/"
        },
        "id": "GspTy0Own7uL",
        "outputId": "157e4f15-0e0b-4ec7-fc89-168746df655f"
      },
      "execution_count": null,
      "outputs": [
        {
          "output_type": "stream",
          "name": "stdout",
          "text": [
            "maximum number of matches were played in  Mumbai\n",
            "minimum number of matches were played in  Bloemfontein\n"
          ]
        }
      ]
    },
    {
      "cell_type": "code",
      "source": [
        "#3\n",
        "x=matches['city'].value_counts()\n",
        "print(\"the count of matches played city wise\",x)"
      ],
      "metadata": {
        "colab": {
          "base_uri": "https://localhost:8080/"
        },
        "id": "e3DpZi2vMLz5",
        "outputId": "eedb5981-bb3b-4d84-c74b-3054587504c6"
      },
      "execution_count": null,
      "outputs": [
        {
          "output_type": "stream",
          "name": "stdout",
          "text": [
            "the count of matches played city wise city\n",
            "Mumbai            101\n",
            "Kolkata            77\n",
            "Delhi              74\n",
            "Bangalore          66\n",
            "Hyderabad          64\n",
            "Chennai            57\n",
            "Jaipur             47\n",
            "Chandigarh         46\n",
            "Pune               38\n",
            "Durban             15\n",
            "Bengaluru          14\n",
            "Visakhapatnam      13\n",
            "Centurion          12\n",
            "Ahmedabad          12\n",
            "Rajkot             10\n",
            "Mohali             10\n",
            "Indore              9\n",
            "Dharamsala          9\n",
            "Johannesburg        8\n",
            "Cuttack             7\n",
            "Ranchi              7\n",
            "Port Elizabeth      7\n",
            "Cape Town           7\n",
            "Abu Dhabi           7\n",
            "Sharjah             6\n",
            "Raipur              6\n",
            "Kochi               5\n",
            "Kanpur              4\n",
            "Nagpur              3\n",
            "Kimberley           3\n",
            "East London         3\n",
            "Bloemfontein        2\n",
            "Name: count, dtype: int64\n"
          ]
        }
      ]
    },
    {
      "cell_type": "code",
      "source": [
        "#4\n",
        "x=matches['toss_winner'].value_counts()\n",
        "max_index=np.max(x)\n",
        "min_index=np.min(x)\n",
        "print(x)\n",
        "\n",
        "max_toss=x[x==max_index].index[0]\n",
        "min_toss=x[x==min_index].index[0]\n",
        "\n",
        "print(\"team to win most tosses\",max_toss)\n",
        "print(\"team to win least tosses\",min_toss)"
      ],
      "metadata": {
        "colab": {
          "base_uri": "https://localhost:8080/"
        },
        "id": "RZMKRS1bMxk2",
        "outputId": "a553a570-3b8f-414e-c6eb-cabaa8143ef6"
      },
      "execution_count": null,
      "outputs": [
        {
          "output_type": "stream",
          "name": "stdout",
          "text": [
            "toss_winner\n",
            "Mumbai Indians                 98\n",
            "Kolkata Knight Riders          92\n",
            "Chennai Super Kings            89\n",
            "Royal Challengers Bangalore    81\n",
            "Kings XI Punjab                81\n",
            "Delhi Daredevils               80\n",
            "Rajasthan Royals               80\n",
            "Sunrisers Hyderabad            46\n",
            "Deccan Chargers                43\n",
            "Pune Warriors                  20\n",
            "Gujarat Lions                  15\n",
            "Delhi Capitals                 10\n",
            "Kochi Tuskers Kerala            8\n",
            "Rising Pune Supergiants         7\n",
            "Rising Pune Supergiant          6\n",
            "Name: count, dtype: int64\n",
            "team to win most tosses Mumbai Indians\n",
            "team to win least tosses Rising Pune Supergiant\n"
          ]
        }
      ]
    },
    {
      "cell_type": "code",
      "source": [
        "#6\n",
        "x=0\n",
        "y=0\n",
        "for result in matches['result']:\n",
        "  if result=='normal':\n",
        "    x=x+1\n",
        "  if result=='tie':\n",
        "    y=y+1\n",
        "\n",
        "print(\"the number of normal matches = \",x)\n",
        "print(\"the number of tied mateches = \",y)"
      ],
      "metadata": {
        "colab": {
          "base_uri": "https://localhost:8080/"
        },
        "id": "cWZQZVvmN3KP",
        "outputId": "197e52f1-5ba5-4adc-a41c-976162cef236"
      },
      "execution_count": null,
      "outputs": [
        {
          "output_type": "stream",
          "name": "stdout",
          "text": [
            "the number of normal matches =  743\n",
            "the number of tied mateches =  9\n"
          ]
        }
      ]
    },
    {
      "cell_type": "code",
      "source": [
        "#7\n",
        "x = pd.DataFrame(matches)\n",
        "print(x.loc[x['result'] == 'tie', ['team1', 'team2']])"
      ],
      "metadata": {
        "colab": {
          "base_uri": "https://localhost:8080/"
        },
        "id": "wU7iGPsWPEgV",
        "outputId": "ced9c716-c029-4cc1-fc21-b4fb83117de3"
      },
      "execution_count": null,
      "outputs": [
        {
          "output_type": "stream",
          "name": "stdout",
          "text": [
            "                           team1                        team2\n",
            "33                 Gujarat Lions               Mumbai Indians\n",
            "125             Rajasthan Royals        Kolkata Knight Riders\n",
            "189              Kings XI Punjab          Chennai Super Kings\n",
            "387  Royal Challengers Bangalore          Sunrisers Hyderabad\n",
            "400             Delhi Daredevils  Royal Challengers Bangalore\n",
            "475             Rajasthan Royals        Kolkata Knight Riders\n",
            "535             Rajasthan Royals              Kings XI Punjab\n",
            "705        Kolkata Knight Riders               Delhi Capitals\n",
            "746               Mumbai Indians          Sunrisers Hyderabad\n"
          ]
        }
      ]
    },
    {
      "cell_type": "code",
      "source": [
        "#8\n",
        "x=matches['win_by_runs']\n",
        "max_winruns=np.max(x)\n",
        "team=matches.loc[x[x==max_winruns].index ,'winner'].iloc[0]\n",
        "print(\"the team that won by highest runs is \",team)"
      ],
      "metadata": {
        "colab": {
          "base_uri": "https://localhost:8080/"
        },
        "id": "LGykmmX7SPsx",
        "outputId": "38428249-49d2-4345-f405-756024025317"
      },
      "execution_count": null,
      "outputs": [
        {
          "output_type": "stream",
          "name": "stdout",
          "text": [
            "the team that won by highest runs is  Mumbai Indians\n"
          ]
        }
      ]
    },
    {
      "cell_type": "code",
      "source": [
        "#9\n",
        "#it is reading the first time win_by_runs =0, but many teams have won by 0 runs\n",
        "x=matches['win_by_runs']\n",
        "min_winruns=np.min(x)\n",
        "matches.loc[x[x==min_winruns].index ,'winner'].iloc[0]\n",
        "print(\"the team that won by least runs is \",team)"
      ],
      "metadata": {
        "colab": {
          "base_uri": "https://localhost:8080/"
        },
        "id": "drVp-wY2df8G",
        "outputId": "fb9c2c1c-a810-40b1-bc5b-74f2489f3c7e"
      },
      "execution_count": null,
      "outputs": [
        {
          "output_type": "stream",
          "name": "stdout",
          "text": [
            "the team that won by least runs is  Rising Pune Supergiant\n"
          ]
        }
      ]
    },
    {
      "cell_type": "code",
      "source": [
        "#10\n",
        "x=matches['player_of_match'].value_counts()\n",
        "for player,number in x.items() :\n",
        "  if number>3:\n",
        "    print(player)"
      ],
      "metadata": {
        "colab": {
          "base_uri": "https://localhost:8080/"
        },
        "id": "FjbCdIS7e1Sy",
        "outputId": "382541bd-57cb-4389-bdda-4bb1c7e36395"
      },
      "execution_count": null,
      "outputs": [
        {
          "output_type": "stream",
          "name": "stdout",
          "text": [
            "CH Gayle\n",
            "AB de Villiers\n",
            "RG Sharma\n",
            "MS Dhoni\n",
            "DA Warner\n",
            "YK Pathan\n",
            "SR Watson\n",
            "SK Raina\n",
            "G Gambhir\n",
            "MEK Hussey\n",
            "AM Rahane\n",
            "V Kohli\n",
            "V Sehwag\n",
            "DR Smith\n",
            "AD Russell\n",
            "A Mishra\n",
            "JH Kallis\n",
            "KA Pollard\n",
            "SE Marsh\n",
            "AT Rayudu\n",
            "SP Narine\n",
            "Harbhajan Singh\n",
            "SR Tendulkar\n",
            "RA Jadeja\n",
            "UT Yadav\n",
            "Rashid Khan\n",
            "RV Uthappa\n",
            "AC Gilchrist\n",
            "M Vijay\n",
            "RR Pant\n",
            "S Dhawan\n",
            "SL Malinga\n",
            "A Nehra\n",
            "BJ Hodge\n",
            "HH Pandya\n",
            "SC Ganguly\n",
            "SPD Smith\n",
            "PA Patel\n",
            "KC Sangakkara\n",
            "DPMD Jayawardene\n",
            "BB McCullum\n",
            "JP Faulkner\n",
            "AJ Finch\n",
            "DW Steyn\n",
            "Yuvraj Singh\n",
            "SV Samson\n",
            "GJ Maxwell\n",
            "JJ Bumrah\n",
            "Sandeep Sharma\n",
            "JD Unadkat\n",
            "JC Buttler\n",
            "B Kumar\n",
            "KL Rahul\n",
            "KD Karthik\n",
            "JP Duminy\n",
            "MK Pandey\n",
            "NM Coulter-Nile\n",
            "AR Patel\n",
            "N Rana\n",
            "F du Plessis\n",
            "SK Warne\n",
            "CA Lynn\n",
            "SS Iyer\n",
            "ML Hayden\n",
            "KH Pandya\n"
          ]
        }
      ]
    },
    {
      "cell_type": "code",
      "source": [
        "#11\n",
        "x=matches['player_of_match'].value_counts()\n",
        "b=np.max(x)\n",
        "player=x[x==b].index[0]\n",
        "print(player)"
      ],
      "metadata": {
        "colab": {
          "base_uri": "https://localhost:8080/"
        },
        "id": "tLK1cSdjhasX",
        "outputId": "9cffafae-ebcd-4060-99d1-ebb7dc6a5c60"
      },
      "execution_count": null,
      "outputs": [
        {
          "output_type": "stream",
          "name": "stdout",
          "text": [
            "CH Gayle\n"
          ]
        }
      ]
    },
    {
      "cell_type": "code",
      "source": [
        "#12\n",
        "x=matches['win_by_runs']\n",
        "max_winruns=np.max(x)\n",
        "venue=matches.loc[x[x==max_winruns].index ,'venue'].iloc[0]\n",
        "print(\"the team that won by highest runs is at the venue  \",venue)"
      ],
      "metadata": {
        "colab": {
          "base_uri": "https://localhost:8080/"
        },
        "id": "a2hyYs9TiNl3",
        "outputId": "a5e6518a-73de-4676-8485-3bca4c31796c"
      },
      "execution_count": null,
      "outputs": [
        {
          "output_type": "stream",
          "name": "stdout",
          "text": [
            "the team that won by highest runs is  Feroz Shah Kotla\n"
          ]
        }
      ]
    },
    {
      "cell_type": "code",
      "source": [
        "#13\n",
        "#same problem as Q9\n",
        "x=matches['win_by_runs']\n",
        "min_winruns=np.min(x)\n",
        "venue=matches.loc[x[x==min_winruns].index ,'venue'].iloc[0]\n",
        "print(\"the team that won by least runs is \",venue)"
      ],
      "metadata": {
        "colab": {
          "base_uri": "https://localhost:8080/"
        },
        "id": "B68i88E6igoz",
        "outputId": "c96f82fe-d0d9-42c8-a135-077ebf3a5854"
      },
      "execution_count": null,
      "outputs": [
        {
          "output_type": "stream",
          "name": "stdout",
          "text": [
            "the team that won by least runs is  Maharashtra Cricket Association Stadium\n"
          ]
        }
      ]
    },
    {
      "cell_type": "code",
      "source": [
        "#14\n",
        "x=pd.concat([matches['umpire1'],matches['umpire2'],matches['umpire3']]).value_counts()\n",
        "b=np.max(x)\n",
        "umpire=x[x==b].index[0]\n",
        "print(umpire)"
      ],
      "metadata": {
        "colab": {
          "base_uri": "https://localhost:8080/"
        },
        "id": "o5bliWjFisG4",
        "outputId": "c8601e15-790a-4908-d33d-7795854531d9"
      },
      "execution_count": null,
      "outputs": [
        {
          "output_type": "stream",
          "name": "stdout",
          "text": [
            "S Ravi\n"
          ]
        }
      ]
    },
    {
      "cell_type": "code",
      "source": [
        "#15\n",
        "x=matches['season'].value_counts()\n",
        "for season,no_of_matches in x.items():\n",
        "  print( season, no_of_matches)\n",
        "#or, i could have just printed x"
      ],
      "metadata": {
        "colab": {
          "base_uri": "https://localhost:8080/"
        },
        "id": "p7Y8X4QHkTMk",
        "outputId": "cf772a57-66be-45de-af35-73666213fced"
      },
      "execution_count": null,
      "outputs": [
        {
          "output_type": "stream",
          "name": "stdout",
          "text": [
            "2013 76\n",
            "2012 74\n",
            "2011 73\n",
            "2010 60\n",
            "2014 60\n",
            "2016 60\n",
            "2018 60\n",
            "2019 60\n",
            "2017 59\n",
            "2015 59\n",
            "2008 58\n",
            "2009 57\n"
          ]
        }
      ]
    },
    {
      "cell_type": "code",
      "source": [
        "#16\n",
        "x=matches['season'].value_counts()\n",
        "for season,no_of_matches in x.items():\n",
        "  runs_season=matches.loc[matches['season']==season,'win_by_runs']\n",
        "  print(season,\"=\",sum(runs_season))"
      ],
      "metadata": {
        "colab": {
          "base_uri": "https://localhost:8080/"
        },
        "id": "p-6nzUfOllVC",
        "outputId": "5c4460d9-83e1-46ae-a670-f0fcd3161111"
      },
      "execution_count": null,
      "outputs": [
        {
          "output_type": "stream",
          "name": "stdout",
          "text": [
            "2013 = 1241\n",
            "2012 = 960\n",
            "2011 = 1098\n",
            "2010 = 976\n",
            "2014 = 644\n",
            "2016 = 676\n",
            "2018 = 675\n",
            "2019 = 665\n",
            "2017 = 788\n",
            "2015 = 850\n",
            "2008 = 705\n",
            "2009 = 764\n"
          ]
        }
      ]
    },
    {
      "cell_type": "code",
      "source": [
        "#17\n",
        "x=matches['toss_winner'].value_counts()\n",
        "print(x)"
      ],
      "metadata": {
        "colab": {
          "base_uri": "https://localhost:8080/"
        },
        "id": "8AeqQdmfnreA",
        "outputId": "32e695ee-99dc-44e9-e926-e8f16d3fad17"
      },
      "execution_count": null,
      "outputs": [
        {
          "output_type": "stream",
          "name": "stdout",
          "text": [
            "toss_winner\n",
            "Mumbai Indians                 98\n",
            "Kolkata Knight Riders          92\n",
            "Chennai Super Kings            89\n",
            "Royal Challengers Bangalore    81\n",
            "Kings XI Punjab                81\n",
            "Delhi Daredevils               80\n",
            "Rajasthan Royals               80\n",
            "Sunrisers Hyderabad            46\n",
            "Deccan Chargers                43\n",
            "Pune Warriors                  20\n",
            "Gujarat Lions                  15\n",
            "Delhi Capitals                 10\n",
            "Kochi Tuskers Kerala            8\n",
            "Rising Pune Supergiants         7\n",
            "Rising Pune Supergiant          6\n",
            "Name: count, dtype: int64\n"
          ]
        }
      ]
    },
    {
      "cell_type": "code",
      "source": [
        "#18\n",
        "import matplotlib.pyplot as plt\n",
        "\n",
        "x=matches['toss_winner'].value_counts()\n",
        "plt.bar(x.index,x)\n",
        "plt.xlabel('teams')\n",
        "plt.ylabel('no of tosses won')\n",
        "plt.xticks(rotation=90)\n",
        "plt.show()"
      ],
      "metadata": {
        "colab": {
          "base_uri": "https://localhost:8080/",
          "height": 636
        },
        "id": "0CVvLMqeO0nL",
        "outputId": "dafc8983-1787-4292-dbcc-ee2e0380b7bd"
      },
      "execution_count": null,
      "outputs": [
        {
          "output_type": "display_data",
          "data": {
            "text/plain": [
              "<Figure size 640x480 with 1 Axes>"
            ],
            "image/png": "[encoded data removed]"
          },
          "metadata": {}
        }
      ]
    },
    {
      "cell_type": "code",
      "source": [
        "#19\n",
        "dismissal_kinds=deliveries['dismissal_kind'].value_counts()\n",
        "plt.figure(figsize=(12,6))\n",
        "\n",
        "plt.bar(dismissal_kinds.index,dismissal_kinds.values,color='pink')\n",
        "plt.xlabel('dismissal_kinds')\n",
        "plt.ylabel('count')\n",
        "plt.xticks(rotation=45)\n",
        "plt.show()"
      ],
      "metadata": {
        "colab": {
          "base_uri": "https://localhost:8080/",
          "height": 637
        },
        "id": "04EUWJgl6s07",
        "outputId": "a0c17798-061c-4e9b-8ea9-e226a4853b75"
      },
      "execution_count": null,
      "outputs": [
        {
          "output_type": "display_data",
          "data": {
            "text/plain": [
              "<Figure size 1200x600 with 1 Axes>"
            ],
            "image/png": "[encoded data removed]"
          },
          "metadata": {}
        }
      ]
    },
    {
      "cell_type": "code",
      "source": [
        "#20\n",
        "import matplotlib.pyplot as plt\n",
        "\n",
        "dismissal_kinds = deliveries['dismissal_kind'].value_counts()\n",
        "plt.figure(figsize=(8, 8))\n",
        "\n",
        "plt.pie(dismissal_kinds.values,autopct='%1.1f%%', startangle=90)\n",
        "plt.title('Dismissal Kinds Distribution')\n",
        "plt.legend(dismissal_kinds.index, loc='center left', bbox_to_anchor=(1, 0.5))\n",
        "plt.show()"
      ],
      "metadata": {
        "colab": {
          "base_uri": "https://localhost:8080/",
          "height": 675
        },
        "id": "AOjTZMCT-N4c",
        "outputId": "d648d1d1-0e77-4e27-c5d7-3315d30d2a1f"
      },
      "execution_count": null,
      "outputs": [
        {
          "output_type": "display_data",
          "data": {
            "text/plain": [
              "<Figure size 800x800 with 1 Axes>"
            ],
            "image/png": "[encoded data removed]"
          },
          "metadata": {}
        }
      ]
    },
    {
      "cell_type": "code",
      "source": [
        "#21\n",
        "x=deliveries.groupby('batsman')['total_runs'].sum().sort_values(ascending=False).head(10)\n",
        "\n",
        "plt.figure(figsize=(12,6))\n",
        "plt.bar(x.index,x.values,color='darkseagreen')\n",
        "plt.xlabel('batsman')\n",
        "plt.ylabel('total runs')\n",
        "plt.xticks(rotation=45)\n",
        "plt.title(\"top 10 run scorers\")\n",
        "plt.show()"
      ],
      "metadata": {
        "colab": {
          "base_uri": "https://localhost:8080/",
          "height": 625
        },
        "id": "dXBY2Ryg-jEG",
        "outputId": "c6fd7f59-ca72-4cab-e96d-6871cfb14812"
      },
      "execution_count": null,
      "outputs": [
        {
          "output_type": "display_data",
          "data": {
            "text/plain": [
              "<Figure size 1200x600 with 1 Axes>"
            ],
            "image/png": "[encoded data removed]"
          },
          "metadata": {}
        }
      ]
    },
    {
      "cell_type": "code",
      "source": [
        "#22\n",
        "x=matches['player_of_match'].value_counts().sort_values(ascending=False).head(10)\n",
        "print(x)\n",
        "plt.figure(figsize=(12, 6))\n",
        "plt.bar(x.index,x.values, color='skyblue')\n",
        "plt.xlabel('Player')\n",
        "plt.ylabel('Number of MOM Awards')\n",
        "plt.title('Top 10 Players with Most MOM Awards')\n",
        "plt.xticks(rotation=45, ha='right')\n",
        "plt.tight_layout()\n",
        "plt.show()\n"
      ],
      "metadata": {
        "colab": {
          "base_uri": "https://localhost:8080/",
          "height": 825
        },
        "id": "nmVb92qIRdyI",
        "outputId": "283e2474-9b37-4cb1-99a0-5c7cd25b93d9"
      },
      "execution_count": null,
      "outputs": [
        {
          "output_type": "stream",
          "name": "stdout",
          "text": [
            "player_of_match\n",
            "CH Gayle          21\n",
            "AB de Villiers    20\n",
            "RG Sharma         17\n",
            "MS Dhoni          17\n",
            "DA Warner         17\n",
            "YK Pathan         16\n",
            "SR Watson         15\n",
            "SK Raina          14\n",
            "G Gambhir         13\n",
            "MEK Hussey        12\n",
            "Name: count, dtype: int64\n"
          ]
        },
        {
          "output_type": "display_data",
          "data": {
            "text/plain": [
              "<Figure size 1200x600 with 1 Axes>"
            ],
            "image/png": "[encoded data removed]"
          },
          "metadata": {}
        }
      ]
    },
    {
      "cell_type": "code",
      "source": [
        "#23\n",
        "x=pd.concat([matches['team1'],matches['team2']]).value_counts()\n",
        "y=matches['winner'].value_counts()\n",
        "z=(y/x)*100\n",
        "print(x)\n",
        "print(y)\n",
        "print(z)\n",
        "df=pd.DataFrame({'total matches':x,'total wins':y,'win rate':z})\n",
        "a=df.plot(kind='bar',figsize=(12,6),width=0.5,color=['skyblue','orange','green'])\n",
        "plt.xlabel('teams')\n",
        "plt.ylabel('count and percentage')\n",
        "plt.legend(loc='upper right')\n",
        "plt.xticks(rotation = 90)\n",
        "plt.tight_layout()\n",
        "plt.show()\n",
        "\n"
      ],
      "metadata": {
        "colab": {
          "base_uri": "https://localhost:8080/",
          "height": 1000
        },
        "id": "HP3tHH7LUiaf",
        "outputId": "04b1eb2c-4eab-4883-bd85-aeb5ddf17262"
      },
      "execution_count": null,
      "outputs": [
        {
          "output_type": "stream",
          "name": "stdout",
          "text": [
            "Mumbai Indians                 187\n",
            "Royal Challengers Bangalore    180\n",
            "Kolkata Knight Riders          178\n",
            "Kings XI Punjab                176\n",
            "Chennai Super Kings            164\n",
            "Delhi Daredevils               161\n",
            "Rajasthan Royals               147\n",
            "Sunrisers Hyderabad            108\n",
            "Deccan Chargers                 75\n",
            "Pune Warriors                   46\n",
            "Gujarat Lions                   30\n",
            "Rising Pune Supergiant          16\n",
            "Delhi Capitals                  16\n",
            "Kochi Tuskers Kerala            14\n",
            "Rising Pune Supergiants         14\n",
            "Name: count, dtype: int64\n",
            "winner\n",
            "Mumbai Indians                 109\n",
            "Chennai Super Kings            100\n",
            "Kolkata Knight Riders           92\n",
            "Royal Challengers Bangalore     84\n",
            "Kings XI Punjab                 82\n",
            "Rajasthan Royals                75\n",
            "Delhi Daredevils                67\n",
            "Sunrisers Hyderabad             58\n",
            "Deccan Chargers                 29\n",
            "Gujarat Lions                   13\n",
            "Pune Warriors                   12\n",
            "Rising Pune Supergiant          10\n",
            "Delhi Capitals                  10\n",
            "Kochi Tuskers Kerala             6\n",
            "Rising Pune Supergiants          5\n",
            "Name: count, dtype: int64\n",
            "Chennai Super Kings            60.975610\n",
            "Deccan Chargers                38.666667\n",
            "Delhi Capitals                 62.500000\n",
            "Delhi Daredevils               41.614907\n",
            "Gujarat Lions                  43.333333\n",
            "Kings XI Punjab                46.590909\n",
            "Kochi Tuskers Kerala           42.857143\n",
            "Kolkata Knight Riders          51.685393\n",
            "Mumbai Indians                 58.288770\n",
            "Pune Warriors                  26.086957\n",
            "Rajasthan Royals               51.020408\n",
            "Rising Pune Supergiant         62.500000\n",
            "Rising Pune Supergiants        35.714286\n",
            "Royal Challengers Bangalore    46.666667\n",
            "Sunrisers Hyderabad            53.703704\n",
            "Name: count, dtype: float64\n"
          ]
        },
        {
          "output_type": "display_data",
          "data": {
            "text/plain": [
              "<Figure size 1200x600 with 1 Axes>"
            ],
            "image/png": "[encoded data removed]"
          },
          "metadata": {}
        }
      ]
    },
    {
      "cell_type": "code",
      "source": [
        "#24\n",
        "x= matches['winner'].value_counts()\n",
        "plt.figure(figsize=(12, 6))\n",
        "plt.bar(x.index,x.values, color='plum')\n",
        "plt.xlabel('Teams')\n",
        "plt.ylabel('Number of Matches Won')\n",
        "plt.title('Distribution of Won Matches')\n",
        "plt.xticks(rotation=90)\n",
        "plt.tight_layout()\n",
        "plt.show()"
      ],
      "metadata": {
        "colab": {
          "base_uri": "https://localhost:8080/",
          "height": 607
        },
        "id": "5pIlfBeTYPS7",
        "outputId": "9ef5e138-7298-4ea6-a1d7-1168ff28a20e"
      },
      "execution_count": null,
      "outputs": [
        {
          "output_type": "display_data",
          "data": {
            "text/plain": [
              "<Figure size 1200x600 with 1 Axes>"
            ],
            "image/png": "[encoded data removed]"
          },
          "metadata": {}
        }
      ]
    },
    {
      "cell_type": "code",
      "source": [
        "#25\n",
        "x=pd.concat([matches['team1'],matches['team2']]).value_counts()\n",
        "y=matches['winner'].value_counts()\n",
        "r=(x/y)\n",
        "print(\"ratio of total matches to win matches is\\n\",r)"
      ],
      "metadata": {
        "colab": {
          "base_uri": "https://localhost:8080/"
        },
        "id": "kgDLXJCtfYa0",
        "outputId": "29560d49-603f-413d-d2af-c1b76bc83ae9"
      },
      "execution_count": null,
      "outputs": [
        {
          "output_type": "stream",
          "name": "stdout",
          "text": [
            "ratio of total matches to win matches is\n",
            " Chennai Super Kings            1.640000\n",
            "Deccan Chargers                2.586207\n",
            "Delhi Capitals                 1.600000\n",
            "Delhi Daredevils               2.402985\n",
            "Gujarat Lions                  2.307692\n",
            "Kings XI Punjab                2.146341\n",
            "Kochi Tuskers Kerala           2.333333\n",
            "Kolkata Knight Riders          1.934783\n",
            "Mumbai Indians                 1.715596\n",
            "Pune Warriors                  3.833333\n",
            "Rajasthan Royals               1.960000\n",
            "Rising Pune Supergiant         1.600000\n",
            "Rising Pune Supergiants        2.800000\n",
            "Royal Challengers Bangalore    2.142857\n",
            "Sunrisers Hyderabad            1.862069\n",
            "Name: count, dtype: float64\n"
          ]
        }
      ]
    },
    {
      "cell_type": "code",
      "source": [
        "#26\n",
        "df=pd.DataFrame({'team':matches['toss_winner'],'decision':matches['toss_decision']})\n",
        "print(df)\n"
      ],
      "metadata": {
        "colab": {
          "base_uri": "https://localhost:8080/"
        },
        "id": "uzpY9_k_hpbP",
        "outputId": "d10ab10f-c854-4e75-8fc7-f31db151b564"
      },
      "execution_count": null,
      "outputs": [
        {
          "output_type": "stream",
          "name": "stdout",
          "text": [
            "                            team decision\n",
            "0    Royal Challengers Bangalore    field\n",
            "1         Rising Pune Supergiant    field\n",
            "2          Kolkata Knight Riders    field\n",
            "3                Kings XI Punjab    field\n",
            "4    Royal Challengers Bangalore      bat\n",
            "..                           ...      ...\n",
            "751               Mumbai Indians    field\n",
            "752          Chennai Super Kings      bat\n",
            "753               Delhi Capitals    field\n",
            "754          Chennai Super Kings    field\n",
            "755               Mumbai Indians      bat\n",
            "\n",
            "[756 rows x 2 columns]\n"
          ]
        }
      ]
    }
  ]
}